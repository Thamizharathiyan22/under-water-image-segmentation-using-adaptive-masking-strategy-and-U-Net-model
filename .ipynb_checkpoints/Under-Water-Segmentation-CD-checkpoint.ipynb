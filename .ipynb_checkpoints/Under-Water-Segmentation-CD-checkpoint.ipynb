{
 "cells": [
  {
   "cell_type": "code",
   "execution_count": null,
   "metadata": {},
   "outputs": [],
   "source": [
    "from warnings import filterwarnings\n",
    "filterwarnings(\"ignore\",category=DeprecationWarning)\n",
    "filterwarnings(\"ignore\", category=FutureWarning) \n",
    "filterwarnings(\"ignore\", category=UserWarning)"
   ]
  },
  {
   "cell_type": "code",
   "execution_count": null,
   "metadata": {},
   "outputs": [],
   "source": [
    "from IPython.display import Image as WImage, display"
   ]
  },
  {
   "cell_type": "code",
   "execution_count": null,
   "metadata": {},
   "outputs": [],
   "source": [
    "import os"
   ]
  },
  {
   "cell_type": "code",
   "execution_count": null,
   "metadata": {},
   "outputs": [],
   "source": [
    "import os.path"
   ]
  },
  {
   "cell_type": "code",
   "execution_count": null,
   "metadata": {},
   "outputs": [],
   "source": [
    "from pathlib import Path"
   ]
  },
  {
   "cell_type": "code",
   "execution_count": null,
   "metadata": {},
   "outputs": [],
   "source": [
    "import random"
   ]
  },
  {
   "cell_type": "code",
   "execution_count": null,
   "metadata": {},
   "outputs": [],
   "source": [
    "import glob"
   ]
  },
  {
   "cell_type": "code",
   "execution_count": null,
   "metadata": {},
   "outputs": [],
   "source": [
    "from PIL import Image"
   ]
  },
  {
   "cell_type": "code",
   "execution_count": null,
   "metadata": {},
   "outputs": [],
   "source": [
    "import cv2"
   ]
  },
  {
   "cell_type": "code",
   "execution_count": null,
   "metadata": {},
   "outputs": [],
   "source": [
    "import imageio"
   ]
  },
  {
   "cell_type": "code",
   "execution_count": null,
   "metadata": {},
   "outputs": [],
   "source": [
    "from matplotlib import colors"
   ]
  },
  {
   "cell_type": "code",
   "execution_count": null,
   "metadata": {},
   "outputs": [],
   "source": [
    "import matplotlib.pyplot as plt"
   ]
  },
  {
   "cell_type": "code",
   "execution_count": null,
   "metadata": {},
   "outputs": [],
   "source": [
    "import seaborn as sns"
   ]
  },
  {
   "cell_type": "code",
   "execution_count": null,
   "metadata": {},
   "outputs": [],
   "source": [
    "import numpy as np"
   ]
  },
  {
   "cell_type": "code",
   "execution_count": null,
   "metadata": {},
   "outputs": [],
   "source": [
    "import pandas as pd"
   ]
  },
  {
   "cell_type": "code",
   "execution_count": null,
   "metadata": {},
   "outputs": [],
   "source": [
    "import skimage"
   ]
  },
  {
   "cell_type": "code",
   "execution_count": null,
   "metadata": {},
   "outputs": [],
   "source": [
    "from skimage import data, io, filters"
   ]
  },
  {
   "cell_type": "code",
   "execution_count": null,
   "metadata": {},
   "outputs": [],
   "source": [
    "from skimage.feature import hessian_matrix, hessian_matrix_eigvals"
   ]
  },
  {
   "cell_type": "code",
   "execution_count": null,
   "metadata": {},
   "outputs": [],
   "source": [
    "from skimage.morphology import convex_hull_image, erosion"
   ]
  },
  {
   "cell_type": "code",
   "execution_count": null,
   "metadata": {},
   "outputs": [],
   "source": [
    "from sklearn.model_selection import train_test_split"
   ]
  },
  {
   "cell_type": "code",
   "execution_count": null,
   "metadata": {},
   "outputs": [],
   "source": [
    "from sklearn.preprocessing import StandardScaler, MinMaxScaler "
   ]
  },
  {
   "cell_type": "code",
   "execution_count": null,
   "metadata": {},
   "outputs": [
    {
     "ename": "ModuleNotFoundError",
     "evalue": "No module named 'tensorflow'",
     "output_type": "error",
     "traceback": [
      "\u001b[1;31m---------------------------------------------------------------------------\u001b[0m",
      "\u001b[1;31mModuleNotFoundError\u001b[0m                       Traceback (most recent call last)",
      "Input \u001b[1;32mIn [22]\u001b[0m, in \u001b[0;36m<cell line: 1>\u001b[1;34m()\u001b[0m\n\u001b[1;32m----> 1\u001b[0m \u001b[38;5;28;01mfrom\u001b[39;00m \u001b[38;5;21;01mtensorflow\u001b[39;00m\u001b[38;5;21;01m.\u001b[39;00m\u001b[38;5;21;01mkeras\u001b[39;00m\u001b[38;5;21;01m.\u001b[39;00m\u001b[38;5;21;01mmodels\u001b[39;00m \u001b[38;5;28;01mimport\u001b[39;00m Sequential, Model, load_model\n",
      "\u001b[1;31mModuleNotFoundError\u001b[0m: No module named 'tensorflow'"
     ]
    }
   ],
   "source": [
    "from tensorflow.keras.models import Sequential, Model, load_model"
   ]
  },
  {
   "cell_type": "code",
   "execution_count": null,
   "metadata": {},
   "outputs": [],
   "source": [
    "from tensorflow.keras.layers import Input, Conv2D, MaxPooling2D, UpSampling2D, concatenate, Conv2DTranspose, BatchNormalization, Dropout, Lambda"
   ]
  },
  {
   "cell_type": "code",
   "execution_count": null,
   "metadata": {},
   "outputs": [],
   "source": [
    "from tensorflow.keras.layers import ReLU"
   ]
  },
  {
   "cell_type": "code",
   "execution_count": null,
   "metadata": {},
   "outputs": [],
   "source": [
    "from tensorflow.keras import backend as K"
   ]
  },
  {
   "cell_type": "code",
   "execution_count": null,
   "metadata": {},
   "outputs": [],
   "source": [
    "from tensorflow.keras.utils import to_categorical, Sequence"
   ]
  },
  {
   "cell_type": "code",
   "execution_count": null,
   "metadata": {},
   "outputs": [],
   "source": [
    "from tensorflow.keras.preprocessing.image import load_img, img_to_array"
   ]
  },
  {
   "cell_type": "code",
   "execution_count": null,
   "metadata": {},
   "outputs": [],
   "source": [
    "from tensorflow.keras.callbacks import EarlyStopping ,ReduceLROnPlateau ,ModelCheckpoint"
   ]
  },
  {
   "cell_type": "code",
   "execution_count": null,
   "metadata": {},
   "outputs": [],
   "source": [
    "from tensorflow.keras.optimizers import Adam"
   ]
  },
  {
   "cell_type": "code",
   "execution_count": null,
   "metadata": {},
   "outputs": [],
   "source": [
    "os.environ[\"SM_FRAMEWORK\"] = \"tf.keras\""
   ]
  },
  {
   "cell_type": "code",
   "execution_count": null,
   "metadata": {},
   "outputs": [],
   "source": [
    "import segmentation_models as sm"
   ]
  },
  {
   "cell_type": "code",
   "execution_count": null,
   "metadata": {},
   "outputs": [],
   "source": [
    "base_dir = \"Dataset/train_val\""
   ]
  },
  {
   "cell_type": "code",
   "execution_count": null,
   "metadata": {},
   "outputs": [],
   "source": [
    "filenames = os.listdir(os.path.join(base_dir,'images'))\n",
    "filenames = [x for x in filenames if x.endswith('jpg')]\n",
    "print(len(filenames))\n",
    "nums = random.sample(range(len(filenames)),10)"
   ]
  },
  {
   "cell_type": "code",
   "execution_count": null,
   "metadata": {},
   "outputs": [],
   "source": [
    "for num in nums:\n",
    "    filename = filenames[num]\n",
    "    img = imageio.imread(os.path.join(base_dir,'images', filename))\n",
    "    lab = imageio.imread(os.path.join(base_dir,'masks', filename[:-3] + 'bmp'))\n",
    "    plt.figure()\n",
    "    ax = plt.subplot(121)\n",
    "    plt.imshow(img)\n",
    "    ax.axes.xaxis.set_visible(False)\n",
    "    ax.axes.yaxis.set_visible(False)\n",
    "    ax = plt.subplot(122)\n",
    "    plt.imshow(lab)\n",
    "    ax.axes.xaxis.set_visible(False)\n",
    "    ax.axes.yaxis.set_visible(False)\n",
    "    plt.savefig(f\"Output/EDA/Images-Mask-R-{num}.png\")"
   ]
  },
  {
   "cell_type": "code",
   "execution_count": null,
   "metadata": {},
   "outputs": [],
   "source": [
    "images_path_list = Path(\"Dataset/train_val/images\")"
   ]
  },
  {
   "cell_type": "code",
   "execution_count": null,
   "metadata": {},
   "outputs": [],
   "source": [
    "jpg_path_list = list(images_path_list.glob(r\"*.jpg\"))"
   ]
  },
  {
   "cell_type": "code",
   "execution_count": null,
   "metadata": {},
   "outputs": [],
   "source": [
    "print(len(jpg_path_list))"
   ]
  },
  {
   "cell_type": "code",
   "execution_count": null,
   "metadata": {},
   "outputs": [],
   "source": [
    "jpg_path_list = sorted(jpg_path_list)"
   ]
  },
  {
   "cell_type": "code",
   "execution_count": null,
   "metadata": {},
   "outputs": [],
   "source": [
    "bmp_path_list_list = Path(\"Dataset/train_val/masks\")"
   ]
  },
  {
   "cell_type": "code",
   "execution_count": null,
   "metadata": {},
   "outputs": [],
   "source": [
    "bmp_path_list = list(bmp_path_list_list.glob(r\"*.bmp\"))"
   ]
  },
  {
   "cell_type": "code",
   "execution_count": null,
   "metadata": {},
   "outputs": [],
   "source": [
    "print(len(bmp_path_list))"
   ]
  },
  {
   "cell_type": "code",
   "execution_count": null,
   "metadata": {},
   "outputs": [],
   "source": [
    "bmp_path_list = sorted(bmp_path_list)"
   ]
  },
  {
   "cell_type": "code",
   "execution_count": null,
   "metadata": {},
   "outputs": [],
   "source": [
    "objects_df = pd.Series(jpg_path_list,name=\"OBJECTS\").astype(str)"
   ]
  },
  {
   "cell_type": "code",
   "execution_count": null,
   "metadata": {},
   "outputs": [],
   "source": [
    "masks_df = pd.Series(bmp_path_list,name=\"MASK\").astype(str)"
   ]
  },
  {
   "cell_type": "code",
   "execution_count": null,
   "metadata": {},
   "outputs": [],
   "source": [
    "objects_df"
   ]
  },
  {
   "cell_type": "code",
   "execution_count": null,
   "metadata": {},
   "outputs": [],
   "source": [
    "masks_df"
   ]
  },
  {
   "cell_type": "code",
   "execution_count": null,
   "metadata": {},
   "outputs": [],
   "source": [
    "main_df = pd.concat([objects_df,masks_df],axis=1)"
   ]
  },
  {
   "cell_type": "code",
   "execution_count": null,
   "metadata": {},
   "outputs": [],
   "source": [
    "main_df"
   ]
  },
  {
   "cell_type": "code",
   "execution_count": null,
   "metadata": {},
   "outputs": [],
   "source": [
    "sample_image = cv2.cvtColor(cv2.imread(main_df[\"OBJECTS\"][12]),cv2.COLOR_BGR2RGB)"
   ]
  },
  {
   "cell_type": "code",
   "execution_count": null,
   "metadata": {},
   "outputs": [],
   "source": [
    "sample_mask = cv2.cvtColor(cv2.imread(main_df[\"MASK\"][12]),cv2.COLOR_BGR2RGB)"
   ]
  },
  {
   "cell_type": "code",
   "execution_count": null,
   "metadata": {},
   "outputs": [],
   "source": [
    "figure,axis = plt.subplots(1,2,figsize=(15,15))\n",
    "axis[0].set_xlabel(sample_image.shape)\n",
    "axis[0].set_title(\"OBJECT\")\n",
    "axis[0].imshow(sample_image)\n",
    "axis[1].set_xlabel(sample_mask.shape)\n",
    "axis[1].set_title(\"MASK\")\n",
    "axis[1].imshow(sample_mask)\n",
    "plt.tight_layout()\n",
    "plt.savefig(\"Output/EDA/Objecct-Mask-A01.png\")\n",
    "plt.show()\n"
   ]
  },
  {
   "cell_type": "code",
   "execution_count": null,
   "metadata": {},
   "outputs": [],
   "source": [
    "sample_image = cv2.cvtColor(cv2.imread(main_df[\"OBJECTS\"][1112]),cv2.COLOR_BGR2RGB)"
   ]
  },
  {
   "cell_type": "code",
   "execution_count": null,
   "metadata": {},
   "outputs": [],
   "source": [
    "sample_mask = cv2.cvtColor(cv2.imread(main_df[\"MASK\"][1112]),cv2.COLOR_BGR2RGB)"
   ]
  },
  {
   "cell_type": "code",
   "execution_count": null,
   "metadata": {},
   "outputs": [],
   "source": [
    "figure,axis = plt.subplots(1,2,figsize=(15,15))\n",
    "axis[0].set_xlabel(sample_image.shape)\n",
    "axis[0].set_title(\"OBJECT\")\n",
    "axis[0].imshow(sample_image)\n",
    "axis[1].set_xlabel(sample_mask.shape)\n",
    "axis[1].set_title(\"MASK\")\n",
    "axis[1].imshow(sample_mask)\n",
    "plt.tight_layout()\n",
    "plt.savefig(\"Output/EDA/Objecct-Mask-A02.png\")\n",
    "plt.show()\n"
   ]
  },
  {
   "cell_type": "code",
   "execution_count": null,
   "metadata": {},
   "outputs": [],
   "source": [
    "sample_image = cv2.cvtColor(cv2.imread(main_df[\"OBJECTS\"][1445]),cv2.COLOR_BGR2RGB)"
   ]
  },
  {
   "cell_type": "code",
   "execution_count": null,
   "metadata": {},
   "outputs": [],
   "source": [
    "sample_mask = cv2.cvtColor(cv2.imread(main_df[\"MASK\"][1445]),cv2.COLOR_BGR2RGB)"
   ]
  },
  {
   "cell_type": "code",
   "execution_count": null,
   "metadata": {},
   "outputs": [],
   "source": [
    "figure,axis = plt.subplots(1,2,figsize=(15,15))\n",
    "axis[0].set_xlabel(sample_image.shape)\n",
    "axis[0].set_title(\"OBJECT\")\n",
    "axis[0].imshow(sample_image)\n",
    "axis[1].set_xlabel(sample_mask.shape)\n",
    "axis[1].set_title(\"MASK\")\n",
    "axis[1].imshow(sample_mask)\n",
    "plt.tight_layout()\n",
    "plt.savefig(\"Output/EDA/Objecct-Mask-A03.png\")\n",
    "plt.show()\n"
   ]
  },
  {
   "cell_type": "code",
   "execution_count": null,
   "metadata": {},
   "outputs": [],
   "source": [
    "sample_image = cv2.cvtColor(cv2.imread(main_df[\"OBJECTS\"][5]),cv2.COLOR_BGR2RGB)"
   ]
  },
  {
   "cell_type": "code",
   "execution_count": null,
   "metadata": {},
   "outputs": [],
   "source": [
    "sample_mask = cv2.cvtColor(cv2.imread(main_df[\"MASK\"][5]),cv2.COLOR_BGR2RGB)"
   ]
  },
  {
   "cell_type": "code",
   "execution_count": null,
   "metadata": {},
   "outputs": [],
   "source": [
    "figure,axis = plt.subplots(1,2,figsize=(15,15))\n",
    "axis[0].set_xlabel(sample_image.shape)\n",
    "axis[0].set_title(\"OBJECT\")\n",
    "axis[0].imshow(sample_image)\n",
    "axis[1].set_xlabel(sample_mask.shape)\n",
    "axis[1].set_title(\"MASK\")\n",
    "axis[1].imshow(sample_mask)\n",
    "plt.tight_layout()\n",
    "plt.savefig(\"Output/EDA/Objecct-Mask-A04.png\")\n",
    "plt.show()\n"
   ]
  },
  {
   "cell_type": "code",
   "execution_count": null,
   "metadata": {},
   "outputs": [],
   "source": [
    "sample_image = cv2.cvtColor(cv2.imread(main_df[\"OBJECTS\"][166]),cv2.COLOR_BGR2RGB)"
   ]
  },
  {
   "cell_type": "code",
   "execution_count": null,
   "metadata": {},
   "outputs": [],
   "source": [
    "sample_mask = cv2.cvtColor(cv2.imread(main_df[\"MASK\"][166]),cv2.COLOR_BGR2RGB)"
   ]
  },
  {
   "cell_type": "code",
   "execution_count": null,
   "metadata": {},
   "outputs": [],
   "source": [
    "figure,axis = plt.subplots(1,2,figsize=(15,15))\n",
    "axis[0].set_xlabel(sample_image.shape)\n",
    "axis[0].set_title(\"OBJECT\")\n",
    "axis[0].imshow(sample_image)\n",
    "axis[1].set_xlabel(sample_mask.shape)\n",
    "axis[1].set_title(\"MASK\")\n",
    "axis[1].imshow(sample_mask)\n",
    "plt.tight_layout()\n",
    "plt.savefig(\"Output/EDA/Objecct-Mask-A05.png\")\n",
    "plt.show()"
   ]
  },
  {
   "cell_type": "code",
   "execution_count": null,
   "metadata": {},
   "outputs": [],
   "source": [
    "sample_image = cv2.cvtColor(cv2.imread(main_df[\"OBJECTS\"][335]),cv2.COLOR_BGR2RGB)"
   ]
  },
  {
   "cell_type": "code",
   "execution_count": null,
   "metadata": {},
   "outputs": [],
   "source": [
    "sample_mask = cv2.cvtColor(cv2.imread(main_df[\"MASK\"][335]),cv2.COLOR_BGR2RGB)"
   ]
  },
  {
   "cell_type": "code",
   "execution_count": null,
   "metadata": {},
   "outputs": [],
   "source": [
    "figure,axis = plt.subplots(1,2,figsize=(15,15))\n",
    "axis[0].set_xlabel(sample_image.shape)\n",
    "axis[0].set_title(\"OBJECT\")\n",
    "axis[0].imshow(sample_image)\n",
    "axis[1].set_xlabel(sample_mask[:,:,0].shape)\n",
    "axis[1].set_title(\"MASK\")\n",
    "axis[1].imshow(sample_mask[:,:,0],cmap=\"hot\")\n",
    "plt.tight_layout()\n",
    "plt.savefig(\"Output/EDA/Objecct-Mask-A06.png\")\n",
    "plt.show()\n"
   ]
  },
  {
   "cell_type": "code",
   "execution_count": null,
   "metadata": {},
   "outputs": [],
   "source": [
    "sample_image = cv2.cvtColor(cv2.imread(main_df[\"OBJECTS\"][5]),cv2.COLOR_BGR2RGB)"
   ]
  },
  {
   "cell_type": "code",
   "execution_count": null,
   "metadata": {},
   "outputs": [],
   "source": [
    "sample_mask = cv2.cvtColor(cv2.imread(main_df[\"MASK\"][5]),cv2.COLOR_BGR2RGB)"
   ]
  },
  {
   "cell_type": "code",
   "execution_count": null,
   "metadata": {},
   "outputs": [],
   "source": [
    "COPY_OBJECT = sample_image.copy()"
   ]
  },
  {
   "cell_type": "code",
   "execution_count": null,
   "metadata": {},
   "outputs": [],
   "source": [
    "COPY_OBJECT[sample_mask == 0] = 0"
   ]
  },
  {
   "cell_type": "code",
   "execution_count": null,
   "metadata": {},
   "outputs": [],
   "source": [
    "figure,axis = plt.subplots(1,3,figsize=(15,15))\n",
    "axis[0].set_xlabel(sample_image.shape)\n",
    "axis[0].set_title(\"OBJECT\")\n",
    "axis[0].imshow(sample_image)\n",
    "axis[1].set_xlabel(sample_mask.shape)\n",
    "axis[1].set_title(\"MASK\")\n",
    "axis[1].imshow(sample_mask)\n",
    "axis[2].set_xlabel(COPY_OBJECT.shape)\n",
    "axis[2].set_title(\"MASK TRANSFORMATION\")\n",
    "axis[2].imshow(COPY_OBJECT)\n",
    "plt.tight_layout()\n",
    "plt.savefig(\"Output/EDA/Objecct-Mask-Transformation-T01.png\")\n",
    "plt.show()\n"
   ]
  },
  {
   "cell_type": "code",
   "execution_count": null,
   "metadata": {},
   "outputs": [],
   "source": [
    "sample_image = cv2.cvtColor(cv2.imread(main_df[\"OBJECTS\"][877]),cv2.COLOR_BGR2RGB)"
   ]
  },
  {
   "cell_type": "code",
   "execution_count": null,
   "metadata": {},
   "outputs": [],
   "source": [
    "sample_mask = cv2.cvtColor(cv2.imread(main_df[\"MASK\"][877]),cv2.COLOR_BGR2RGB)"
   ]
  },
  {
   "cell_type": "code",
   "execution_count": null,
   "metadata": {},
   "outputs": [],
   "source": [
    "COPY_OBJECT = sample_image.copy()"
   ]
  },
  {
   "cell_type": "code",
   "execution_count": null,
   "metadata": {},
   "outputs": [],
   "source": [
    "COPY_OBJECT[sample_mask == 0] = 0"
   ]
  },
  {
   "cell_type": "code",
   "execution_count": null,
   "metadata": {},
   "outputs": [],
   "source": [
    "figure,axis = plt.subplots(1,3,figsize=(15,15))\n",
    "axis[0].set_xlabel(sample_image.shape)\n",
    "axis[0].set_title(\"OBJECT\")\n",
    "axis[0].imshow(sample_image)\n",
    "axis[1].set_xlabel(sample_mask.shape)\n",
    "axis[1].set_title(\"MASK\")\n",
    "axis[1].imshow(sample_mask)\n",
    "axis[2].set_xlabel(COPY_OBJECT.shape)\n",
    "axis[2].set_title(\"MASK TRANSFORMATION\")\n",
    "axis[2].imshow(COPY_OBJECT)\n",
    "plt.tight_layout()\n",
    "plt.savefig(\"Output/EDA/Objecct-Mask-Transformation-T02.png\")\n",
    "plt.show()"
   ]
  },
  {
   "cell_type": "code",
   "execution_count": null,
   "metadata": {},
   "outputs": [],
   "source": [
    "sample_image = cv2.cvtColor(cv2.imread(main_df[\"OBJECTS\"][5]),cv2.COLOR_BGR2RGB)"
   ]
  },
  {
   "cell_type": "code",
   "execution_count": null,
   "metadata": {},
   "outputs": [],
   "source": [
    "sample_mask = cv2.cvtColor(cv2.imread(main_df[\"MASK\"][5]),cv2.COLOR_BGR2RGB)"
   ]
  },
  {
   "cell_type": "code",
   "execution_count": null,
   "metadata": {},
   "outputs": [],
   "source": [
    "COPY_OBJECT = sample_image.copy()"
   ]
  },
  {
   "cell_type": "code",
   "execution_count": null,
   "metadata": {},
   "outputs": [],
   "source": [
    "COPY_OBJECT[sample_mask == 0] = 255"
   ]
  },
  {
   "cell_type": "code",
   "execution_count": null,
   "metadata": {},
   "outputs": [],
   "source": [
    "figure,axis = plt.subplots(1,3,figsize=(15,15))\n",
    "axis[0].set_xlabel(sample_image.shape)\n",
    "axis[0].set_title(\"OBJECT\")\n",
    "axis[0].imshow(sample_image)\n",
    "axis[1].set_xlabel(sample_mask.shape)\n",
    "axis[1].set_title(\"MASK\")\n",
    "axis[1].imshow(sample_mask)\n",
    "axis[2].set_xlabel(COPY_OBJECT.shape)\n",
    "axis[2].set_title(\"MASK TRANSFORMATION\")\n",
    "axis[2].imshow(COPY_OBJECT)\n",
    "plt.tight_layout()\n",
    "plt.savefig(\"Output/EDA/Objecct-Mask-Transformation-T03.png\")\n",
    "plt.show()"
   ]
  },
  {
   "cell_type": "code",
   "execution_count": null,
   "metadata": {},
   "outputs": [],
   "source": [
    "sample_image = cv2.cvtColor(cv2.imread(main_df[\"OBJECTS\"][877]),cv2.COLOR_BGR2RGB)"
   ]
  },
  {
   "cell_type": "code",
   "execution_count": null,
   "metadata": {},
   "outputs": [],
   "source": [
    "sample_mask = cv2.cvtColor(cv2.imread(main_df[\"MASK\"][877]),cv2.COLOR_BGR2RGB)"
   ]
  },
  {
   "cell_type": "code",
   "execution_count": null,
   "metadata": {},
   "outputs": [],
   "source": [
    "COPY_OBJECT = sample_image.copy()"
   ]
  },
  {
   "cell_type": "code",
   "execution_count": null,
   "metadata": {},
   "outputs": [],
   "source": [
    "COPY_OBJECT[sample_mask == 0] = 255"
   ]
  },
  {
   "cell_type": "code",
   "execution_count": null,
   "metadata": {},
   "outputs": [],
   "source": [
    "figure,axis = plt.subplots(1,3,figsize=(15,15))\n",
    "axis[0].set_xlabel(sample_image.shape)\n",
    "axis[0].set_title(\"OBJECT\")\n",
    "axis[0].imshow(sample_image)\n",
    "axis[1].set_xlabel(sample_mask.shape)\n",
    "axis[1].set_title(\"MASK\")\n",
    "axis[1].imshow(sample_mask)\n",
    "axis[2].set_xlabel(COPY_OBJECT.shape)\n",
    "axis[2].set_title(\"MASK TRANSFORMATION\")\n",
    "axis[2].imshow(COPY_OBJECT)\n",
    "plt.tight_layout()\n",
    "plt.savefig(\"Output/EDA/Objecct-Mask-Transformation-T04.png\")\n",
    "plt.show()"
   ]
  },
  {
   "cell_type": "code",
   "execution_count": null,
   "metadata": {},
   "outputs": [],
   "source": [
    "sample_image = cv2.cvtColor(cv2.imread(main_df[\"OBJECTS\"][5]),cv2.COLOR_BGR2RGB)"
   ]
  },
  {
   "cell_type": "code",
   "execution_count": null,
   "metadata": {},
   "outputs": [],
   "source": [
    "sample_mask = cv2.cvtColor(cv2.imread(main_df[\"MASK\"][5]),cv2.COLOR_BGR2RGB)"
   ]
  },
  {
   "cell_type": "code",
   "execution_count": null,
   "metadata": {},
   "outputs": [],
   "source": [
    "COPY_OBJECT = sample_image.copy()"
   ]
  },
  {
   "cell_type": "code",
   "execution_count": null,
   "metadata": {},
   "outputs": [],
   "source": [
    "COPY_OBJECT[sample_mask == 255] = 0"
   ]
  },
  {
   "cell_type": "code",
   "execution_count": null,
   "metadata": {},
   "outputs": [],
   "source": [
    "figure,axis = plt.subplots(1,3,figsize=(15,15))\n",
    "axis[0].set_xlabel(sample_image.shape)\n",
    "axis[0].set_title(\"OBJECT\")\n",
    "axis[0].imshow(sample_image)\n",
    "axis[1].set_xlabel(sample_mask.shape)\n",
    "axis[1].set_title(\"MASK\")\n",
    "axis[1].imshow(sample_mask)\n",
    "axis[2].set_xlabel(COPY_OBJECT.shape)\n",
    "axis[2].set_title(\"MASK TRANSFORMATION\")\n",
    "axis[2].imshow(COPY_OBJECT)\n",
    "plt.tight_layout()\n",
    "plt.savefig(\"Output/EDA/Objecct-Mask-Transformation-T05.png\")\n",
    "plt.show()"
   ]
  },
  {
   "cell_type": "code",
   "execution_count": null,
   "metadata": {},
   "outputs": [],
   "source": [
    "sample_image = cv2.cvtColor(cv2.imread(main_df[\"OBJECTS\"][877]),cv2.COLOR_BGR2RGB)"
   ]
  },
  {
   "cell_type": "code",
   "execution_count": null,
   "metadata": {},
   "outputs": [],
   "source": [
    "sample_mask = cv2.cvtColor(cv2.imread(main_df[\"MASK\"][877]),cv2.COLOR_BGR2RGB)"
   ]
  },
  {
   "cell_type": "code",
   "execution_count": null,
   "metadata": {},
   "outputs": [],
   "source": [
    "COPY_OBJECT = sample_image.copy()"
   ]
  },
  {
   "cell_type": "code",
   "execution_count": null,
   "metadata": {},
   "outputs": [],
   "source": [
    "COPY_OBJECT[sample_mask == 255] = 0"
   ]
  },
  {
   "cell_type": "code",
   "execution_count": null,
   "metadata": {},
   "outputs": [],
   "source": [
    "figure,axis = plt.subplots(1,3,figsize=(15,15))\n",
    "axis[0].set_xlabel(sample_image.shape)\n",
    "axis[0].set_title(\"OBJECT\")\n",
    "axis[0].imshow(sample_image)\n",
    "axis[1].set_xlabel(sample_mask.shape)\n",
    "axis[1].set_title(\"MASK\")\n",
    "axis[1].imshow(sample_mask)\n",
    "axis[2].set_xlabel(COPY_OBJECT.shape)\n",
    "axis[2].set_title(\"MASK TRANSFORMATION\")\n",
    "axis[2].imshow(COPY_OBJECT)\n",
    "plt.tight_layout()\n",
    "plt.savefig(\"Output/EDA/Objecct-Mask-Transformation-T06.png\")\n",
    "plt.show()"
   ]
  },
  {
   "cell_type": "code",
   "execution_count": null,
   "metadata": {},
   "outputs": [],
   "source": [
    "sample_image = cv2.cvtColor(cv2.imread(main_df[\"OBJECTS\"][5]),cv2.COLOR_BGR2RGB)"
   ]
  },
  {
   "cell_type": "code",
   "execution_count": null,
   "metadata": {},
   "outputs": [],
   "source": [
    "sample_mask = cv2.cvtColor(cv2.imread(main_df[\"MASK\"][5]),cv2.COLOR_BGR2RGB)"
   ]
  },
  {
   "cell_type": "code",
   "execution_count": null,
   "metadata": {},
   "outputs": [],
   "source": [
    "figure,axis = plt.subplots(1,2,figsize=(15,15))\n",
    "axis[0].set_xlabel(sample_image.shape)\n",
    "axis[0].set_title(\"OBJECT\")\n",
    "axis[0].imshow(sample_image)\n",
    "axis[1].set_xlabel(sample_mask[:,:,0].shape)\n",
    "axis[1].set_title(\"MASK\")\n",
    "axis[1].imshow(sample_mask[:,:,0] == 255)\n",
    "plt.tight_layout()\n",
    "plt.show()"
   ]
  },
  {
   "cell_type": "code",
   "execution_count": null,
   "metadata": {},
   "outputs": [],
   "source": [
    "sample_image = cv2.cvtColor(cv2.imread(main_df[\"OBJECTS\"][877]),cv2.COLOR_BGR2RGB)"
   ]
  },
  {
   "cell_type": "code",
   "execution_count": null,
   "metadata": {},
   "outputs": [],
   "source": [
    "sample_mask = cv2.cvtColor(cv2.imread(main_df[\"MASK\"][877]),cv2.COLOR_BGR2RGB)"
   ]
  },
  {
   "cell_type": "code",
   "execution_count": null,
   "metadata": {},
   "outputs": [],
   "source": [
    "figure,axis = plt.subplots(1,2,figsize=(15,15))\n",
    "axis[0].set_xlabel(sample_image.shape)\n",
    "axis[0].set_title(\"OBJECT\")\n",
    "axis[0].imshow(sample_image)\n",
    "axis[1].set_xlabel(sample_mask[:,:,0].shape)\n",
    "axis[1].set_title(\"MASK\")\n",
    "axis[1].imshow(sample_mask[:,:,0] == 0)\n",
    "plt.tight_layout()\n",
    "plt.show()"
   ]
  },
  {
   "cell_type": "code",
   "execution_count": null,
   "metadata": {},
   "outputs": [],
   "source": [
    "sample_image = cv2.cvtColor(cv2.imread(main_df[\"OBJECTS\"][5]),cv2.COLOR_BGR2RGB)"
   ]
  },
  {
   "cell_type": "code",
   "execution_count": null,
   "metadata": {},
   "outputs": [],
   "source": [
    "sample_mask = cv2.cvtColor(cv2.imread(main_df[\"MASK\"][5]),cv2.COLOR_BGR2RGB)"
   ]
  },
  {
   "cell_type": "code",
   "execution_count": null,
   "metadata": {},
   "outputs": [],
   "source": [
    "jpg_path_list_TRANS = sample_mask[:,:,0] == 0"
   ]
  },
  {
   "cell_type": "code",
   "execution_count": null,
   "metadata": {},
   "outputs": [],
   "source": [
    "COPY_OBJECT = sample_image.copy()"
   ]
  },
  {
   "cell_type": "code",
   "execution_count": null,
   "metadata": {},
   "outputs": [],
   "source": [
    "COPY_OBJECT[jpg_path_list_TRANS] = [255,0,0]"
   ]
  },
  {
   "cell_type": "code",
   "execution_count": null,
   "metadata": {},
   "outputs": [],
   "source": [
    "figure,axis = plt.subplots(1,4,figsize=(15,15))\n",
    "axis[0].set_xlabel(sample_image.shape)\n",
    "axis[0].set_title(\"OBJECT\")\n",
    "axis[0].imshow(sample_image)\n",
    "axis[1].set_xlabel(sample_mask[:,:,0].shape)\n",
    "axis[1].set_title(\"2D-MASK\")\n",
    "axis[1].imshow(sample_mask[:,:,0] == 255)\n",
    "axis[2].set_xlabel(COPY_OBJECT.shape)\n",
    "axis[2].set_title(\"MASK TRANS\")\n",
    "axis[2].imshow(COPY_OBJECT)\n",
    "axis[3].set_xlabel(sample_mask.shape)\n",
    "axis[3].set_title(\"ORIGINAL MASK\")\n",
    "axis[3].imshow(sample_mask)\n",
    "plt.tight_layout()\n",
    "plt.show()"
   ]
  },
  {
   "cell_type": "code",
   "execution_count": null,
   "metadata": {},
   "outputs": [],
   "source": [
    "sample_image = cv2.cvtColor(cv2.imread(main_df[\"OBJECTS\"][15]),cv2.COLOR_BGR2RGB)"
   ]
  },
  {
   "cell_type": "code",
   "execution_count": null,
   "metadata": {},
   "outputs": [],
   "source": [
    "sample_mask = cv2.cvtColor(cv2.imread(main_df[\"MASK\"][15]),cv2.COLOR_BGR2RGB)"
   ]
  },
  {
   "cell_type": "code",
   "execution_count": null,
   "metadata": {},
   "outputs": [],
   "source": [
    "jpg_path_list_TRANS = sample_mask[:,:,0] == 0"
   ]
  },
  {
   "cell_type": "code",
   "execution_count": null,
   "metadata": {},
   "outputs": [],
   "source": [
    "COPY_OBJECT = sample_image.copy()"
   ]
  },
  {
   "cell_type": "code",
   "execution_count": null,
   "metadata": {},
   "outputs": [],
   "source": [
    "COPY_OBJECT[jpg_path_list_TRANS] = [255,0,0]"
   ]
  },
  {
   "cell_type": "code",
   "execution_count": null,
   "metadata": {},
   "outputs": [],
   "source": [
    "figure,axis = plt.subplots(1,4,figsize=(15,15))\n",
    "axis[0].set_xlabel(sample_image.shape)\n",
    "axis[0].set_title(\"OBJECT\")\n",
    "axis[0].imshow(sample_image)\n",
    "axis[1].set_xlabel(sample_mask[:,:,0].shape)\n",
    "axis[1].set_title(\"2D-MASK\")\n",
    "axis[1].imshow(sample_mask[:,:,0] == 255)\n",
    "axis[2].set_xlabel(COPY_OBJECT.shape)\n",
    "axis[2].set_title(\"MASK TRANS\")\n",
    "axis[2].imshow(COPY_OBJECT)\n",
    "axis[3].set_xlabel(sample_mask.shape)\n",
    "axis[3].set_title(\"ORIGINAL MASK\")\n",
    "axis[3].imshow(sample_mask)\n",
    "plt.tight_layout()\n",
    "plt.show()"
   ]
  },
  {
   "cell_type": "code",
   "execution_count": null,
   "metadata": {},
   "outputs": [],
   "source": [
    "sample_image = cv2.cvtColor(cv2.imread(main_df[\"OBJECTS\"][185]),cv2.COLOR_BGR2RGB)"
   ]
  },
  {
   "cell_type": "code",
   "execution_count": null,
   "metadata": {},
   "outputs": [],
   "source": [
    "sample_mask = cv2.cvtColor(cv2.imread(main_df[\"MASK\"][185]),cv2.COLOR_BGR2RGB)"
   ]
  },
  {
   "cell_type": "code",
   "execution_count": null,
   "metadata": {},
   "outputs": [],
   "source": [
    "jpg_path_list_TRANS = sample_mask[:,:,0] == 0"
   ]
  },
  {
   "cell_type": "code",
   "execution_count": null,
   "metadata": {},
   "outputs": [],
   "source": [
    "COPY_OBJECT = sample_image.copy()"
   ]
  },
  {
   "cell_type": "code",
   "execution_count": null,
   "metadata": {},
   "outputs": [],
   "source": [
    "COPY_OBJECT[jpg_path_list_TRANS] = [255,0,0]"
   ]
  },
  {
   "cell_type": "code",
   "execution_count": null,
   "metadata": {},
   "outputs": [],
   "source": [
    "figure,axis = plt.subplots(1,4,figsize=(15,15))\n",
    "axis[0].set_xlabel(sample_image.shape)\n",
    "axis[0].set_title(\"OBJECT\")\n",
    "axis[0].imshow(sample_image)\n",
    "axis[1].set_xlabel(sample_mask[:,:,0].shape)\n",
    "axis[1].set_title(\"2D-MASK\")\n",
    "axis[1].imshow(sample_mask[:,:,0] == 255)\n",
    "axis[2].set_xlabel(COPY_OBJECT.shape)\n",
    "axis[2].set_title(\"MASK TRANS\")\n",
    "axis[2].imshow(COPY_OBJECT)\n",
    "axis[3].set_xlabel(sample_mask.shape)\n",
    "axis[3].set_title(\"ORIGINAL MASK\")\n",
    "axis[3].imshow(sample_mask)\n",
    "plt.tight_layout()\n",
    "plt.show()"
   ]
  },
  {
   "cell_type": "code",
   "execution_count": null,
   "metadata": {},
   "outputs": [],
   "source": [
    "sample_image = cv2.cvtColor(cv2.imread(main_df[\"OBJECTS\"][1000]),cv2.COLOR_BGR2RGB)"
   ]
  },
  {
   "cell_type": "code",
   "execution_count": null,
   "metadata": {},
   "outputs": [],
   "source": [
    "sample_mask = cv2.cvtColor(cv2.imread(main_df[\"MASK\"][1000]),cv2.COLOR_BGR2RGB)"
   ]
  },
  {
   "cell_type": "code",
   "execution_count": null,
   "metadata": {},
   "outputs": [],
   "source": [
    "jpg_path_list_TRANS = sample_mask[:,:,0] == 0"
   ]
  },
  {
   "cell_type": "code",
   "execution_count": null,
   "metadata": {},
   "outputs": [],
   "source": [
    "COPY_OBJECT = sample_image.copy()"
   ]
  },
  {
   "cell_type": "code",
   "execution_count": null,
   "metadata": {},
   "outputs": [],
   "source": [
    "COPY_OBJECT[jpg_path_list_TRANS] = [255,0,0]"
   ]
  },
  {
   "cell_type": "code",
   "execution_count": null,
   "metadata": {},
   "outputs": [],
   "source": [
    "figure,axis = plt.subplots(1,4,figsize=(15,15))\n",
    "axis[0].set_xlabel(sample_image.shape)\n",
    "axis[0].set_title(\"OBJECT\")\n",
    "axis[0].imshow(sample_image)\n",
    "axis[1].set_xlabel(sample_mask[:,:,0].shape)\n",
    "axis[1].set_title(\"2D-MASK\")\n",
    "axis[1].imshow(sample_mask[:,:,0] == 255)\n",
    "axis[2].set_xlabel(COPY_OBJECT.shape)\n",
    "axis[2].set_title(\"MASK TRANS\")\n",
    "axis[2].imshow(COPY_OBJECT)\n",
    "axis[3].set_xlabel(sample_mask.shape)\n",
    "axis[3].set_title(\"ORIGINAL MASK\")\n",
    "axis[3].imshow(sample_mask)\n",
    "plt.tight_layout()\n",
    "plt.show()"
   ]
  },
  {
   "cell_type": "code",
   "execution_count": null,
   "metadata": {},
   "outputs": [],
   "source": [
    "sample_image = cv2.cvtColor(cv2.imread(main_df[\"OBJECTS\"][885]),cv2.COLOR_BGR2RGB)"
   ]
  },
  {
   "cell_type": "code",
   "execution_count": null,
   "metadata": {},
   "outputs": [],
   "source": [
    "sample_mask = cv2.cvtColor(cv2.imread(main_df[\"MASK\"][885]),cv2.COLOR_BGR2RGB)"
   ]
  },
  {
   "cell_type": "code",
   "execution_count": null,
   "metadata": {},
   "outputs": [],
   "source": [
    "jpg_path_list_TRANS = sample_mask[:,:,0] == 0"
   ]
  },
  {
   "cell_type": "code",
   "execution_count": null,
   "metadata": {},
   "outputs": [],
   "source": [
    "COPY_OBJECT = sample_image.copy()"
   ]
  },
  {
   "cell_type": "code",
   "execution_count": null,
   "metadata": {},
   "outputs": [],
   "source": [
    "COPY_OBJECT[jpg_path_list_TRANS] = [255,0,0]"
   ]
  },
  {
   "cell_type": "code",
   "execution_count": null,
   "metadata": {},
   "outputs": [],
   "source": [
    "figure,axis = plt.subplots(1,4,figsize=(15,15))\n",
    "axis[0].set_xlabel(sample_image.shape)\n",
    "axis[0].set_title(\"OBJECT\")\n",
    "axis[0].imshow(sample_image)\n",
    "axis[1].set_xlabel(sample_mask[:,:,0].shape)\n",
    "axis[1].set_title(\"2D-MASK\")\n",
    "axis[1].imshow(sample_mask[:,:,0] == 255)\n",
    "axis[2].set_xlabel(COPY_OBJECT.shape)\n",
    "axis[2].set_title(\"MASK TRANS\")\n",
    "axis[2].imshow(COPY_OBJECT)\n",
    "axis[3].set_xlabel(sample_mask.shape)\n",
    "axis[3].set_title(\"ORIGINAL MASK\")\n",
    "axis[3].imshow(sample_mask)\n",
    "plt.tight_layout()\n",
    "plt.show()"
   ]
  },
  {
   "cell_type": "code",
   "execution_count": null,
   "metadata": {},
   "outputs": [],
   "source": [
    "sample_image = cv2.cvtColor(cv2.imread(main_df[\"OBJECTS\"][1500]),cv2.COLOR_BGR2RGB)"
   ]
  },
  {
   "cell_type": "code",
   "execution_count": null,
   "metadata": {},
   "outputs": [],
   "source": [
    "sample_mask = cv2.cvtColor(cv2.imread(main_df[\"MASK\"][1500]),cv2.COLOR_BGR2RGB)"
   ]
  },
  {
   "cell_type": "code",
   "execution_count": null,
   "metadata": {},
   "outputs": [],
   "source": [
    "jpg_path_list_TRANS = sample_mask[:,:,0] == 0"
   ]
  },
  {
   "cell_type": "code",
   "execution_count": null,
   "metadata": {},
   "outputs": [],
   "source": [
    "COPY_OBJECT = sample_image.copy()"
   ]
  },
  {
   "cell_type": "code",
   "execution_count": null,
   "metadata": {},
   "outputs": [],
   "source": [
    "COPY_OBJECT[jpg_path_list_TRANS == 0] = [255,0,0]"
   ]
  },
  {
   "cell_type": "code",
   "execution_count": null,
   "metadata": {},
   "outputs": [],
   "source": [
    "COPY_OBJECT[jpg_path_list_TRANS == 1] = [0,255,0]"
   ]
  },
  {
   "cell_type": "code",
   "execution_count": null,
   "metadata": {},
   "outputs": [],
   "source": [
    "figure,axis = plt.subplots(1,4,figsize=(15,15))\n",
    "axis[0].set_xlabel(sample_image.shape)\n",
    "axis[0].set_title(\"OBJECT\")\n",
    "axis[0].imshow(sample_image)\n",
    "axis[1].set_xlabel(sample_mask[:,:,0].shape)\n",
    "axis[1].set_title(\"2D-MASK\")\n",
    "axis[1].imshow(sample_mask[:,:,0] == 255)\n",
    "axis[2].set_xlabel(COPY_OBJECT.shape)\n",
    "axis[2].set_title(\"MASK TRANS\")\n",
    "axis[2].imshow(COPY_OBJECT)\n",
    "axis[3].set_xlabel(sample_mask.shape)\n",
    "axis[3].set_title(\"ORIGINAL MASK\")\n",
    "axis[3].imshow(sample_mask)\n",
    "plt.tight_layout()\n",
    "plt.show()"
   ]
  },
  {
   "cell_type": "code",
   "execution_count": null,
   "metadata": {},
   "outputs": [],
   "source": [
    "sample_image = cv2.cvtColor(cv2.imread(main_df[\"OBJECTS\"][741]),cv2.COLOR_BGR2RGB)"
   ]
  },
  {
   "cell_type": "code",
   "execution_count": null,
   "metadata": {},
   "outputs": [],
   "source": [
    "sample_mask = cv2.cvtColor(cv2.imread(main_df[\"MASK\"][741]),cv2.COLOR_BGR2RGB)"
   ]
  },
  {
   "cell_type": "code",
   "execution_count": null,
   "metadata": {},
   "outputs": [],
   "source": [
    "jpg_path_list_TRANS = sample_mask[:,:,0] == 0"
   ]
  },
  {
   "cell_type": "code",
   "execution_count": null,
   "metadata": {},
   "outputs": [],
   "source": [
    "COPY_OBJECT = sample_image.copy()"
   ]
  },
  {
   "cell_type": "code",
   "execution_count": null,
   "metadata": {},
   "outputs": [],
   "source": [
    "COPY_OBJECT[jpg_path_list_TRANS == 0] = [255,0,0]"
   ]
  },
  {
   "cell_type": "code",
   "execution_count": null,
   "metadata": {},
   "outputs": [],
   "source": [
    "COPY_OBJECT[jpg_path_list_TRANS == 1] = [0,255,0]"
   ]
  },
  {
   "cell_type": "code",
   "execution_count": null,
   "metadata": {},
   "outputs": [],
   "source": [
    "figure,axis = plt.subplots(1,4,figsize=(15,15))\n",
    "axis[0].set_xlabel(sample_image.shape)\n",
    "axis[0].set_title(\"OBJECT\")\n",
    "axis[0].imshow(sample_image)\n",
    "axis[1].set_xlabel(sample_mask[:,:,0].shape)\n",
    "axis[1].set_title(\"2D-MASK\")\n",
    "axis[1].imshow(sample_mask[:,:,0] == 255)\n",
    "axis[2].set_xlabel(COPY_OBJECT.shape)\n",
    "axis[2].set_title(\"MASK TRANS\")\n",
    "axis[2].imshow(COPY_OBJECT)\n",
    "axis[3].set_xlabel(sample_mask.shape)\n",
    "axis[3].set_title(\"ORIGINAL MASK\")\n",
    "axis[3].imshow(sample_mask)\n",
    "plt.tight_layout()\n",
    "plt.show()"
   ]
  },
  {
   "cell_type": "code",
   "execution_count": null,
   "metadata": {},
   "outputs": [],
   "source": [
    "sample_image = cv2.cvtColor(cv2.imread(main_df[\"OBJECTS\"][885]),cv2.COLOR_BGR2RGB)"
   ]
  },
  {
   "cell_type": "code",
   "execution_count": null,
   "metadata": {},
   "outputs": [],
   "source": [
    "sample_mask = cv2.cvtColor(cv2.imread(main_df[\"MASK\"][885]),cv2.COLOR_BGR2RGB)"
   ]
  },
  {
   "cell_type": "code",
   "execution_count": null,
   "metadata": {},
   "outputs": [],
   "source": [
    "jpg_path_list_TRANS = sample_mask[:,:,0] == 255"
   ]
  },
  {
   "cell_type": "code",
   "execution_count": null,
   "metadata": {},
   "outputs": [],
   "source": [
    "COPY_OBJECT = sample_image.copy()"
   ]
  },
  {
   "cell_type": "code",
   "execution_count": null,
   "metadata": {},
   "outputs": [],
   "source": [
    "COPY_OBJECT[jpg_path_list_TRANS] = [100,255,100]"
   ]
  },
  {
   "cell_type": "code",
   "execution_count": null,
   "metadata": {},
   "outputs": [],
   "source": [
    "figure,axis = plt.subplots(1,4,figsize=(15,15))\n",
    "axis[0].set_xlabel(sample_image.shape)\n",
    "axis[0].set_title(\"OBJECT\")\n",
    "axis[0].imshow(sample_image)\n",
    "axis[1].set_xlabel(jpg_path_list_TRANS.shape)\n",
    "axis[1].set_title(\"OBJECT PATH TRANS\")\n",
    "axis[1].imshow(jpg_path_list_TRANS)\n",
    "axis[2].set_xlabel(COPY_OBJECT.shape)\n",
    "axis[2].set_title(\"MASK TRANS\")\n",
    "axis[2].imshow(COPY_OBJECT)\n",
    "axis[3].set_xlabel(sample_mask.shape)\n",
    "axis[3].set_title(\"ORIGINAL MASK\")\n",
    "axis[3].imshow(sample_mask)\n",
    "plt.tight_layout()\n",
    "plt.show()"
   ]
  },
  {
   "cell_type": "code",
   "execution_count": null,
   "metadata": {},
   "outputs": [],
   "source": [
    "sample_image = cv2.cvtColor(cv2.imread(main_df[\"OBJECTS\"][330]),cv2.COLOR_BGR2RGB)"
   ]
  },
  {
   "cell_type": "code",
   "execution_count": null,
   "metadata": {},
   "outputs": [],
   "source": [
    "sample_mask = cv2.cvtColor(cv2.imread(main_df[\"MASK\"][330]),cv2.COLOR_BGR2RGB)"
   ]
  },
  {
   "cell_type": "code",
   "execution_count": null,
   "metadata": {},
   "outputs": [],
   "source": [
    "jpg_path_list_TRANS = sample_mask[:,:,0] == 255"
   ]
  },
  {
   "cell_type": "code",
   "execution_count": null,
   "metadata": {},
   "outputs": [],
   "source": [
    "COPY_OBJECT = sample_image.copy()"
   ]
  },
  {
   "cell_type": "code",
   "execution_count": null,
   "metadata": {},
   "outputs": [],
   "source": [
    "COPY_OBJECT[jpg_path_list_TRANS] = [0,255,0]"
   ]
  },
  {
   "cell_type": "code",
   "execution_count": null,
   "metadata": {},
   "outputs": [],
   "source": [
    "figure,axis = plt.subplots(1,4,figsize=(15,15))\n",
    "axis[0].set_xlabel(sample_image.shape)\n",
    "axis[0].set_title(\"OBJECT\")\n",
    "axis[0].imshow(sample_image)\n",
    "axis[1].set_xlabel(jpg_path_list_TRANS.shape)\n",
    "axis[1].set_title(\"OBJECT PATH TRANS\")\n",
    "axis[1].imshow(jpg_path_list_TRANS)\n",
    "axis[2].set_xlabel(COPY_OBJECT.shape)\n",
    "axis[2].set_title(\"MASK TRANS\")\n",
    "axis[2].imshow(COPY_OBJECT)\n",
    "axis[3].set_xlabel(sample_mask.shape)\n",
    "axis[3].set_title(\"ORIGINAL MASK\")\n",
    "axis[3].imshow(sample_mask)\n",
    "plt.tight_layout()\n",
    "plt.show()"
   ]
  },
  {
   "cell_type": "code",
   "execution_count": null,
   "metadata": {},
   "outputs": [],
   "source": [
    "sample_image = cv2.cvtColor(cv2.imread(main_df[\"OBJECTS\"][3]),cv2.COLOR_BGR2RGB)"
   ]
  },
  {
   "cell_type": "code",
   "execution_count": null,
   "metadata": {},
   "outputs": [],
   "source": [
    "Red_I,Green_I,Blue_I = cv2.split(sample_image)"
   ]
  },
  {
   "cell_type": "code",
   "execution_count": null,
   "metadata": {},
   "outputs": [],
   "source": [
    "Pixel_Colors_I = sample_image.reshape((np.shape(sample_image)[0] * np.shape(sample_image)[1], 3))"
   ]
  },
  {
   "cell_type": "code",
   "execution_count": null,
   "metadata": {},
   "outputs": [],
   "source": [
    "Normalize_I = colors.Normalize(vmin=-1.,vmax=1.)"
   ]
  },
  {
   "cell_type": "code",
   "execution_count": null,
   "metadata": {},
   "outputs": [],
   "source": [
    "Normalize_I.autoscale(Pixel_Colors_I)"
   ]
  },
  {
   "cell_type": "code",
   "execution_count": null,
   "metadata": {},
   "outputs": [],
   "source": [
    "Result_Pixel = Normalize_I(Pixel_Colors_I).tolist()"
   ]
  },
  {
   "cell_type": "code",
   "execution_count": null,
   "metadata": {},
   "outputs": [],
   "source": [
    "figure = plt.figure(figsize=(7,7))\n",
    "axis_func = figure.add_subplot(1, 1, 1, projection=\"3d\")\n",
    "axis_func.scatter(Red_I.flatten(), Green_I.flatten(), Blue_I.flatten(), facecolors=Result_Pixel, marker=\".\")\n",
    "axis_func.set_xlabel(\"Red\")\n",
    "axis_func.set_ylabel(\"Green\")\n",
    "axis_func.set_zlabel(\"Blue\")\n",
    "plt.tight_layout()\n",
    "plt.show()"
   ]
  },
  {
   "cell_type": "code",
   "execution_count": null,
   "metadata": {},
   "outputs": [],
   "source": [
    "sample_image = cv2.cvtColor(cv2.imread(main_df[\"OBJECTS\"][885]),cv2.COLOR_BGR2RGB)"
   ]
  },
  {
   "cell_type": "code",
   "execution_count": null,
   "metadata": {},
   "outputs": [],
   "source": [
    "Red_I,Green_I,Blue_I = cv2.split(sample_image)"
   ]
  },
  {
   "cell_type": "code",
   "execution_count": null,
   "metadata": {},
   "outputs": [],
   "source": [
    "Pixel_Colors_I = sample_image.reshape((np.shape(sample_image)[0] * np.shape(sample_image)[1], 3))"
   ]
  },
  {
   "cell_type": "code",
   "execution_count": null,
   "metadata": {},
   "outputs": [],
   "source": [
    "Normalize_I = colors.Normalize(vmin=-1.,vmax=1.)"
   ]
  },
  {
   "cell_type": "code",
   "execution_count": null,
   "metadata": {},
   "outputs": [],
   "source": [
    "Normalize_I.autoscale(Pixel_Colors_I)"
   ]
  },
  {
   "cell_type": "code",
   "execution_count": null,
   "metadata": {},
   "outputs": [],
   "source": [
    "Result_Pixel = Normalize_I(Pixel_Colors_I).tolist()"
   ]
  },
  {
   "cell_type": "code",
   "execution_count": null,
   "metadata": {},
   "outputs": [],
   "source": [
    "figure = plt.figure(figsize=(7,7))\n",
    "axis_func = figure.add_subplot(1, 1, 1, projection=\"3d\")\n",
    "axis_func.scatter(Red_I.flatten(), Green_I.flatten(), Blue_I.flatten(), facecolors=Result_Pixel, marker=\".\")\n",
    "axis_func.set_xlabel(\"Red\")\n",
    "axis_func.set_ylabel(\"Green\")\n",
    "axis_func.set_zlabel(\"Blue\")\n",
    "plt.tight_layout()\n",
    "plt.show()"
   ]
  },
  {
   "cell_type": "code",
   "execution_count": null,
   "metadata": {},
   "outputs": [],
   "source": [
    "sample_image = cv2.cvtColor(cv2.imread(main_df[\"OBJECTS\"][885]),cv2.COLOR_BGR2RGB)"
   ]
  },
  {
   "cell_type": "code",
   "execution_count": null,
   "metadata": {},
   "outputs": [],
   "source": [
    "sample_mask = cv2.cvtColor(cv2.imread(main_df[\"MASK\"][885]),cv2.COLOR_BGR2RGB)"
   ]
  },
  {
   "cell_type": "code",
   "execution_count": null,
   "metadata": {},
   "outputs": [],
   "source": [
    "Red_I,Green_I,Blue_I = cv2.split(sample_image)"
   ]
  },
  {
   "cell_type": "code",
   "execution_count": null,
   "metadata": {},
   "outputs": [],
   "source": [
    "COPY_OBJECT = sample_image.copy()"
   ]
  },
  {
   "cell_type": "code",
   "execution_count": null,
   "metadata": {},
   "outputs": [],
   "source": [
    "jpg_path_list_TRANS = COPY_OBJECT[:,:,0] - Blue_I"
   ]
  },
  {
   "cell_type": "code",
   "execution_count": null,
   "metadata": {},
   "outputs": [],
   "source": [
    "figure,axis = plt.subplots(1,2,figsize=(15,15))\n",
    "axis[0].set_xlabel(sample_image.shape)\n",
    "axis[0].set_title(\"OBJECT\")\n",
    "axis[0].imshow(sample_image)\n",
    "axis[1].set_xlabel(jpg_path_list_TRANS.shape)\n",
    "axis[1].set_title(\"OBJECT PATH TRANS\")\n",
    "axis[1].imshow(jpg_path_list_TRANS)\n",
    "plt.tight_layout()\n",
    "plt.show()"
   ]
  },
  {
   "cell_type": "code",
   "execution_count": null,
   "metadata": {},
   "outputs": [],
   "source": [
    "sample_image = cv2.cvtColor(cv2.imread(main_df[\"OBJECTS\"][7]),cv2.COLOR_BGR2RGB)"
   ]
  },
  {
   "cell_type": "code",
   "execution_count": null,
   "metadata": {},
   "outputs": [],
   "source": [
    "sample_mask = cv2.cvtColor(cv2.imread(main_df[\"MASK\"][7]),cv2.COLOR_BGR2RGB)"
   ]
  },
  {
   "cell_type": "code",
   "execution_count": null,
   "metadata": {},
   "outputs": [],
   "source": [
    "Red_I,Green_I,Blue_I = cv2.split(sample_image)"
   ]
  },
  {
   "cell_type": "code",
   "execution_count": null,
   "metadata": {},
   "outputs": [],
   "source": [
    "COPY_OBJECT = sample_image.copy()"
   ]
  },
  {
   "cell_type": "code",
   "execution_count": null,
   "metadata": {},
   "outputs": [],
   "source": [
    "jpg_path_list_TRANS = COPY_OBJECT[:,:,0] - Green_I"
   ]
  },
  {
   "cell_type": "code",
   "execution_count": null,
   "metadata": {},
   "outputs": [],
   "source": [
    "figure,axis = plt.subplots(1,2,figsize=(15,15))\n",
    "axis[0].set_xlabel(sample_image.shape)\n",
    "axis[0].set_title(\"OBJECT\")\n",
    "axis[0].imshow(sample_image)\n",
    "axis[1].set_xlabel(jpg_path_list_TRANS.shape)\n",
    "axis[1].set_title(\"OBJECT PATH TRANS\")\n",
    "axis[1].imshow(jpg_path_list_TRANS)\n",
    "plt.tight_layout()\n",
    "plt.show()"
   ]
  },
  {
   "cell_type": "code",
   "execution_count": null,
   "metadata": {},
   "outputs": [],
   "source": [
    "sample_image = cv2.cvtColor(cv2.imread(main_df[\"OBJECTS\"][777]),cv2.COLOR_BGR2RGB)"
   ]
  },
  {
   "cell_type": "code",
   "execution_count": null,
   "metadata": {},
   "outputs": [],
   "source": [
    "sample_mask = cv2.cvtColor(cv2.imread(main_df[\"MASK\"][777]),cv2.COLOR_BGR2RGB)"
   ]
  },
  {
   "cell_type": "code",
   "execution_count": null,
   "metadata": {},
   "outputs": [],
   "source": [
    "Red_I,Green_I,Blue_I = cv2.split(sample_image)"
   ]
  },
  {
   "cell_type": "code",
   "execution_count": null,
   "metadata": {},
   "outputs": [],
   "source": [
    "COPY_OBJECT = sample_image.copy()"
   ]
  },
  {
   "cell_type": "code",
   "execution_count": null,
   "metadata": {},
   "outputs": [],
   "source": [
    "jpg_path_list_TRANS = COPY_OBJECT[:,:,0] - (Red_I + Blue_I)"
   ]
  },
  {
   "cell_type": "code",
   "execution_count": null,
   "metadata": {},
   "outputs": [],
   "source": [
    "figure,axis = plt.subplots(1,3,figsize=(15,15))\n",
    "axis[0].set_xlabel(sample_image.shape)\n",
    "axis[0].set_title(\"OBJECT\")\n",
    "axis[0].imshow(sample_image)\n",
    "axis[1].set_xlabel(jpg_path_list_TRANS.shape)\n",
    "axis[1].set_title(\"OBJECT PATH TRANS\")\n",
    "axis[1].imshow(jpg_path_list_TRANS)\n",
    "axis[2].set_xlabel(sample_mask.shape)\n",
    "axis[2].set_title(\"ORIGINAL MASK\")\n",
    "axis[2].imshow(sample_mask)\n",
    "plt.tight_layout()\n",
    "plt.show()"
   ]
  },
  {
   "cell_type": "code",
   "execution_count": null,
   "metadata": {},
   "outputs": [],
   "source": [
    "sample_image = cv2.cvtColor(cv2.imread(main_df[\"OBJECTS\"][66]),cv2.COLOR_BGR2RGB)"
   ]
  },
  {
   "cell_type": "code",
   "execution_count": null,
   "metadata": {},
   "outputs": [],
   "source": [
    "sample_mask = cv2.cvtColor(cv2.imread(main_df[\"MASK\"][66]),cv2.COLOR_BGR2RGB)"
   ]
  },
  {
   "cell_type": "code",
   "execution_count": null,
   "metadata": {},
   "outputs": [],
   "source": [
    "Red_I,Green_I,Blue_I = cv2.split(sample_image)"
   ]
  },
  {
   "cell_type": "code",
   "execution_count": null,
   "metadata": {},
   "outputs": [],
   "source": [
    "COPY_OBJECT = sample_image.copy()"
   ]
  },
  {
   "cell_type": "code",
   "execution_count": null,
   "metadata": {},
   "outputs": [],
   "source": [
    "jpg_path_list_TRANS = COPY_OBJECT[:,:,0] - (Red_I + Green_I + Blue_I)"
   ]
  },
  {
   "cell_type": "code",
   "execution_count": null,
   "metadata": {},
   "outputs": [],
   "source": [
    "figure,axis = plt.subplots(1,3,figsize=(15,15))\n",
    "axis[0].set_xlabel(sample_image.shape)\n",
    "axis[0].set_title(\"OBJECT\")\n",
    "axis[0].imshow(sample_image)\n",
    "axis[1].set_xlabel(jpg_path_list_TRANS.shape)\n",
    "axis[1].set_title(\"OBJECT PATH TRANS\")\n",
    "axis[1].imshow(jpg_path_list_TRANS)\n",
    "axis[2].set_xlabel(sample_mask.shape)\n",
    "axis[2].set_title(\"ORIGINAL MASK\")\n",
    "axis[2].imshow(sample_mask)\n",
    "plt.tight_layout()\n",
    "plt.show()"
   ]
  },
  {
   "cell_type": "code",
   "execution_count": null,
   "metadata": {},
   "outputs": [],
   "source": [
    "sample_image = cv2.cvtColor(cv2.imread(main_df[\"OBJECTS\"][66]),cv2.COLOR_BGR2RGB)"
   ]
  },
  {
   "cell_type": "code",
   "execution_count": null,
   "metadata": {},
   "outputs": [],
   "source": [
    "sample_mask = cv2.cvtColor(cv2.imread(main_df[\"MASK\"][66]),cv2.COLOR_BGR2RGB)"
   ]
  },
  {
   "cell_type": "code",
   "execution_count": null,
   "metadata": {},
   "outputs": [],
   "source": [
    "Red_I,Green_I,Blue_I = cv2.split(sample_image)"
   ]
  },
  {
   "cell_type": "code",
   "execution_count": null,
   "metadata": {},
   "outputs": [],
   "source": [
    "COPY_OBJECT = sample_image.copy()"
   ]
  },
  {
   "cell_type": "code",
   "execution_count": null,
   "metadata": {},
   "outputs": [],
   "source": [
    "jpg_path_list_TRANS = COPY_OBJECT[:,:,1] - Red_I"
   ]
  },
  {
   "cell_type": "code",
   "execution_count": null,
   "metadata": {},
   "outputs": [],
   "source": [
    "figure,axis = plt.subplots(1,3,figsize=(15,15))\n",
    "axis[0].set_xlabel(sample_image.shape)\n",
    "axis[0].set_title(\"OBJECT\")\n",
    "axis[0].imshow(sample_image)\n",
    "axis[1].set_xlabel(jpg_path_list_TRANS.shape)\n",
    "axis[1].set_title(\"OBJECT PATH TRANS\")\n",
    "axis[1].imshow(jpg_path_list_TRANS)\n",
    "axis[2].set_xlabel(sample_mask.shape)\n",
    "axis[2].set_title(\"ORIGINAL MASK\")\n",
    "axis[2].imshow(sample_mask)\n",
    "plt.tight_layout()\n",
    "plt.show()"
   ]
  },
  {
   "cell_type": "code",
   "execution_count": null,
   "metadata": {},
   "outputs": [],
   "source": [
    "sample_image = cv2.cvtColor(cv2.imread(main_df[\"OBJECTS\"][16]),cv2.COLOR_BGR2RGB)"
   ]
  },
  {
   "cell_type": "code",
   "execution_count": null,
   "metadata": {},
   "outputs": [],
   "source": [
    "sample_mask = cv2.cvtColor(cv2.imread(main_df[\"MASK\"][16]),cv2.COLOR_BGR2RGB)"
   ]
  },
  {
   "cell_type": "code",
   "execution_count": null,
   "metadata": {},
   "outputs": [],
   "source": [
    "Red_I,Green_I,Blue_I = cv2.split(sample_image)"
   ]
  },
  {
   "cell_type": "code",
   "execution_count": null,
   "metadata": {},
   "outputs": [],
   "source": [
    "COPY_OBJECT = sample_image.copy()"
   ]
  },
  {
   "cell_type": "code",
   "execution_count": null,
   "metadata": {},
   "outputs": [],
   "source": [
    "jpg_path_list_TRANS = COPY_OBJECT[:,:,1] - Blue_I"
   ]
  },
  {
   "cell_type": "code",
   "execution_count": null,
   "metadata": {},
   "outputs": [],
   "source": [
    "figure,axis = plt.subplots(1,3,figsize=(15,15))\n",
    "axis[0].set_xlabel(sample_image.shape)\n",
    "axis[0].set_title(\"OBJECT\")\n",
    "axis[0].imshow(sample_image)\n",
    "axis[1].set_xlabel(jpg_path_list_TRANS.shape)\n",
    "axis[1].set_title(\"OBJECT PATH TRANS\")\n",
    "axis[1].imshow(jpg_path_list_TRANS)\n",
    "axis[2].set_xlabel(sample_mask.shape)\n",
    "axis[2].set_title(\"ORIGINAL MASK\")\n",
    "axis[2].imshow(sample_mask)\n",
    "plt.tight_layout()\n",
    "plt.show()"
   ]
  },
  {
   "cell_type": "code",
   "execution_count": null,
   "metadata": {},
   "outputs": [],
   "source": [
    "sample_image = cv2.cvtColor(cv2.imread(main_df[\"OBJECTS\"][66]),cv2.COLOR_BGR2RGB)"
   ]
  },
  {
   "cell_type": "code",
   "execution_count": null,
   "metadata": {},
   "outputs": [],
   "source": [
    "sample_mask = cv2.cvtColor(cv2.imread(main_df[\"MASK\"][66]),cv2.COLOR_BGR2RGB)"
   ]
  },
  {
   "cell_type": "code",
   "execution_count": null,
   "metadata": {},
   "outputs": [],
   "source": [
    "Red_I,Green_I,Blue_I = cv2.split(sample_mask)"
   ]
  },
  {
   "cell_type": "code",
   "execution_count": null,
   "metadata": {},
   "outputs": [],
   "source": [
    "COPY_OBJECT = sample_image.copy()"
   ]
  },
  {
   "cell_type": "code",
   "execution_count": null,
   "metadata": {},
   "outputs": [],
   "source": [
    "jpg_path_list_TRANS = COPY_OBJECT[:,:,0] == Green_I"
   ]
  },
  {
   "cell_type": "code",
   "execution_count": null,
   "metadata": {},
   "outputs": [],
   "source": [
    "figure,axis = plt.subplots(1,3,figsize=(15,15))\n",
    "axis[0].set_xlabel(sample_image.shape)\n",
    "axis[0].set_title(\"OBJECT\")\n",
    "axis[0].imshow(sample_image)\n",
    "axis[1].set_xlabel(jpg_path_list_TRANS.shape)\n",
    "axis[1].set_title(\"OBJECT PATH TRANS\")\n",
    "axis[1].imshow(jpg_path_list_TRANS)\n",
    "axis[2].set_xlabel(sample_mask.shape)\n",
    "axis[2].set_title(\"ORIGINAL MASK\")\n",
    "axis[2].imshow(sample_mask)\n",
    "plt.tight_layout()\n",
    "plt.show()"
   ]
  },
  {
   "cell_type": "code",
   "execution_count": null,
   "metadata": {},
   "outputs": [],
   "source": [
    "sample_image = cv2.cvtColor(cv2.imread(main_df[\"OBJECTS\"][66]),cv2.COLOR_BGR2RGB)"
   ]
  },
  {
   "cell_type": "code",
   "execution_count": null,
   "metadata": {},
   "outputs": [],
   "source": [
    "sample_mask = cv2.cvtColor(cv2.imread(main_df[\"MASK\"][66]),cv2.COLOR_BGR2RGB)"
   ]
  },
  {
   "cell_type": "code",
   "execution_count": null,
   "metadata": {},
   "outputs": [],
   "source": [
    "COPY_MASK = sample_mask.copy()"
   ]
  },
  {
   "cell_type": "code",
   "execution_count": null,
   "metadata": {},
   "outputs": [],
   "source": [
    "COPY_MASK[:, :, 0] = 0"
   ]
  },
  {
   "cell_type": "code",
   "execution_count": null,
   "metadata": {},
   "outputs": [],
   "source": [
    "COPY_MASK[:, :, 1] = 0"
   ]
  },
  {
   "cell_type": "code",
   "execution_count": null,
   "metadata": {},
   "outputs": [],
   "source": [
    "figure,axis = plt.subplots(1,3,figsize=(15,15))\n",
    "axis[0].set_xlabel(sample_image.shape)\n",
    "axis[0].set_title(\"OBJECT\")\n",
    "axis[0].imshow(sample_image)\n",
    "axis[1].set_xlabel(COPY_MASK.shape)\n",
    "axis[1].set_title(\"SUB MASK\")\n",
    "axis[1].imshow(COPY_MASK)\n",
    "axis[2].set_xlabel(sample_mask.shape)\n",
    "axis[2].set_title(\"ORIGINAL MASK\")\n",
    "axis[2].imshow(sample_mask)\n",
    "plt.tight_layout()\n",
    "plt.show()"
   ]
  },
  {
   "cell_type": "code",
   "execution_count": null,
   "metadata": {},
   "outputs": [],
   "source": [
    "sample_image = cv2.cvtColor(cv2.imread(main_df[\"OBJECTS\"][710]),cv2.COLOR_BGR2RGB)"
   ]
  },
  {
   "cell_type": "code",
   "execution_count": null,
   "metadata": {},
   "outputs": [],
   "source": [
    "sample_mask = cv2.cvtColor(cv2.imread(main_df[\"MASK\"][710]),cv2.COLOR_BGR2RGB)"
   ]
  },
  {
   "cell_type": "code",
   "execution_count": null,
   "metadata": {},
   "outputs": [],
   "source": [
    "COPY_MASK = sample_mask.copy()"
   ]
  },
  {
   "cell_type": "code",
   "execution_count": null,
   "metadata": {},
   "outputs": [],
   "source": [
    "COPY_MASK[:, :, 0] = 0"
   ]
  },
  {
   "cell_type": "code",
   "execution_count": null,
   "metadata": {},
   "outputs": [],
   "source": [
    "COPY_MASK[:, :, 1] = 0"
   ]
  },
  {
   "cell_type": "code",
   "execution_count": null,
   "metadata": {},
   "outputs": [],
   "source": [
    "figure,axis = plt.subplots(1,3,figsize=(15,15))\n",
    "axis[0].set_xlabel(sample_image.shape)\n",
    "axis[0].set_title(\"OBJECT\")\n",
    "axis[0].imshow(sample_image)\n",
    "axis[1].set_xlabel(COPY_MASK.shape)\n",
    "axis[1].set_title(\"SUB MASK\")\n",
    "axis[1].imshow(COPY_MASK)\n",
    "axis[2].set_xlabel(sample_mask.shape)\n",
    "axis[2].set_title(\"ORIGINAL MASK\")\n",
    "axis[2].imshow(sample_mask)\n",
    "plt.tight_layout()\n",
    "plt.show()"
   ]
  },
  {
   "cell_type": "code",
   "execution_count": null,
   "metadata": {},
   "outputs": [],
   "source": [
    "RED_COLOR_CODE = [255,0,0]\n",
    "GREEN_COLOR_CODE = [0,255,0]\n",
    "BLUE_COLOR_CODE = [0,0,255]"
   ]
  },
  {
   "cell_type": "code",
   "execution_count": null,
   "metadata": {},
   "outputs": [],
   "source": [
    "YELLOW_COLOR_CODE = [255,255,0]\n",
    "BLACK_COLOR_CODE = [0,0,0]\n",
    "WHITE_COLOR_CODE = [255,255,255]"
   ]
  },
  {
   "cell_type": "code",
   "execution_count": null,
   "metadata": {},
   "outputs": [],
   "source": [
    "PINK_COLOR_CODE = [255,192,203]\n",
    "SKY_BLUE_COLOR_CODE = [135,206,235]"
   ]
  },
  {
   "cell_type": "code",
   "execution_count": null,
   "metadata": {},
   "outputs": [],
   "source": [
    "sample_image = cv2.cvtColor(cv2.imread(main_df[\"OBJECTS\"][166]),cv2.COLOR_BGR2RGB)"
   ]
  },
  {
   "cell_type": "code",
   "execution_count": null,
   "metadata": {},
   "outputs": [],
   "source": [
    "sample_mask = cv2.cvtColor(cv2.imread(main_df[\"MASK\"][166]),cv2.COLOR_BGR2GRAY)"
   ]
  },
  {
   "cell_type": "code",
   "execution_count": null,
   "metadata": {},
   "outputs": [],
   "source": [
    "COPY_OBJECT = sample_image.copy()"
   ]
  },
  {
   "cell_type": "code",
   "execution_count": null,
   "metadata": {},
   "outputs": [],
   "source": [
    "COPY_OBJECT[sample_mask == 0] = BLACK_COLOR_CODE"
   ]
  },
  {
   "cell_type": "code",
   "execution_count": null,
   "metadata": {},
   "outputs": [],
   "source": [
    "figure,axis = plt.subplots(1,3,figsize=(15,15))\n",
    "axis[0].set_xlabel(sample_image.shape)\n",
    "axis[0].set_title(\"OBJECT\")\n",
    "axis[0].imshow(sample_image)\n",
    "axis[1].set_xlabel(COPY_OBJECT.shape)\n",
    "axis[1].set_title(\"TRANS OBJECT\")\n",
    "axis[1].imshow(COPY_OBJECT)\n",
    "axis[2].set_xlabel(sample_mask.shape)\n",
    "axis[2].set_title(\"ORIGINAL MASK\")\n",
    "axis[2].imshow(sample_mask)\n",
    "plt.tight_layout()\n",
    "plt.show()"
   ]
  },
  {
   "cell_type": "code",
   "execution_count": null,
   "metadata": {},
   "outputs": [],
   "source": [
    "sample_image = cv2.cvtColor(cv2.imread(main_df[\"OBJECTS\"][166]),cv2.COLOR_BGR2RGB)"
   ]
  },
  {
   "cell_type": "code",
   "execution_count": null,
   "metadata": {},
   "outputs": [],
   "source": [
    "sample_mask = cv2.cvtColor(cv2.imread(main_df[\"MASK\"][166]),cv2.COLOR_BGR2GRAY)"
   ]
  },
  {
   "cell_type": "code",
   "execution_count": null,
   "metadata": {},
   "outputs": [],
   "source": [
    "COPY_OBJECT = sample_image.copy()"
   ]
  },
  {
   "cell_type": "code",
   "execution_count": null,
   "metadata": {},
   "outputs": [],
   "source": [
    "COPY_OBJECT[sample_mask == 0] = YELLOW_COLOR_CODE"
   ]
  },
  {
   "cell_type": "code",
   "execution_count": null,
   "metadata": {},
   "outputs": [],
   "source": [
    "figure,axis = plt.subplots(1,3,figsize=(15,15))\n",
    "axis[0].set_xlabel(sample_image.shape)\n",
    "axis[0].set_title(\"OBJECT\")\n",
    "axis[0].imshow(sample_image)\n",
    "axis[1].set_xlabel(COPY_OBJECT.shape)\n",
    "axis[1].set_title(\"TRANS OBJECT\")\n",
    "axis[1].imshow(COPY_OBJECT)\n",
    "axis[2].set_xlabel(sample_mask.shape)\n",
    "axis[2].set_title(\"ORIGINAL MASK\")\n",
    "axis[2].imshow(sample_mask)\n",
    "plt.tight_layout()\n",
    "plt.show()"
   ]
  },
  {
   "cell_type": "code",
   "execution_count": null,
   "metadata": {},
   "outputs": [],
   "source": [
    "UPPER_BLUE = np.array([130,255,255])"
   ]
  },
  {
   "cell_type": "code",
   "execution_count": null,
   "metadata": {},
   "outputs": [],
   "source": [
    "LOWER_BLUE = np.array([110,50,50])"
   ]
  },
  {
   "cell_type": "code",
   "execution_count": null,
   "metadata": {},
   "outputs": [],
   "source": [
    "sample_image_RGB = cv2.cvtColor(cv2.imread(main_df[\"OBJECTS\"][66]),cv2.COLOR_BGR2RGB)"
   ]
  },
  {
   "cell_type": "code",
   "execution_count": null,
   "metadata": {},
   "outputs": [],
   "source": [
    "sample_image_HSV = cv2.cvtColor(cv2.imread(main_df[\"OBJECTS\"][66]),cv2.COLOR_BGR2HSV)"
   ]
  },
  {
   "cell_type": "code",
   "execution_count": null,
   "metadata": {},
   "outputs": [],
   "source": [
    "BLUE_MASK = cv2.inRange(sample_image_HSV, LOWER_BLUE, UPPER_BLUE)"
   ]
  },
  {
   "cell_type": "code",
   "execution_count": null,
   "metadata": {},
   "outputs": [],
   "source": [
    "RESULT_IMAGE_EXAMPLE = cv2.bitwise_and(sample_image_RGB, sample_image_RGB, mask=BLUE_MASK)"
   ]
  },
  {
   "cell_type": "code",
   "execution_count": null,
   "metadata": {},
   "outputs": [],
   "source": [
    "figure,axis = plt.subplots(1,4,figsize=(15,15))\n",
    "axis[0].set_xlabel(sample_image_RGB.shape)\n",
    "axis[0].set_title(\"OBJECT RGB\")\n",
    "axis[0].imshow(sample_image_RGB)\n",
    "axis[1].set_xlabel(sample_image_HSV.shape)\n",
    "axis[1].set_title(\"OBJECT HSV\")\n",
    "axis[1].imshow(sample_image_HSV)\n",
    "axis[2].set_xlabel(BLUE_MASK.shape)\n",
    "axis[2].set_title(\"BLUE MASK\")\n",
    "axis[2].imshow(BLUE_MASK)\n",
    "axis[3].set_xlabel(RESULT_IMAGE_EXAMPLE.shape)\n",
    "axis[3].set_title(\"RESULT\")\n",
    "axis[3].imshow(RESULT_IMAGE_EXAMPLE[:,:,0],cmap=\"jet\")\n",
    "plt.tight_layout()\n",
    "plt.show()"
   ]
  },
  {
   "cell_type": "code",
   "execution_count": null,
   "metadata": {},
   "outputs": [],
   "source": [
    "sample_image_RGB = cv2.cvtColor(cv2.imread(main_df[\"OBJECTS\"][636]),cv2.COLOR_BGR2RGB)"
   ]
  },
  {
   "cell_type": "code",
   "execution_count": null,
   "metadata": {},
   "outputs": [],
   "source": [
    "sample_image_HSV = cv2.cvtColor(cv2.imread(main_df[\"OBJECTS\"][636]),cv2.COLOR_BGR2HSV)"
   ]
  },
  {
   "cell_type": "code",
   "execution_count": null,
   "metadata": {},
   "outputs": [],
   "source": [
    "BLUE_MASK = cv2.inRange(sample_image_HSV, LOWER_BLUE, UPPER_BLUE)"
   ]
  },
  {
   "cell_type": "code",
   "execution_count": null,
   "metadata": {},
   "outputs": [],
   "source": [
    "RESULT_IMAGE_EXAMPLE = cv2.bitwise_and(sample_image_RGB, sample_image_RGB, mask=BLUE_MASK)"
   ]
  },
  {
   "cell_type": "code",
   "execution_count": null,
   "metadata": {},
   "outputs": [],
   "source": [
    "figure,axis = plt.subplots(1,4,figsize=(15,15))\n",
    "axis[0].set_xlabel(sample_image_RGB.shape)\n",
    "axis[0].set_title(\"OBJECT RGB\")\n",
    "axis[0].imshow(sample_image_RGB)\n",
    "axis[1].set_xlabel(sample_image_HSV.shape)\n",
    "axis[1].set_title(\"OBJECT HSV\")\n",
    "axis[1].imshow(sample_image_HSV)\n",
    "axis[2].set_xlabel(BLUE_MASK.shape)\n",
    "axis[2].set_title(\"BLUE MASK\")\n",
    "axis[2].imshow(BLUE_MASK)\n",
    "axis[3].set_xlabel(RESULT_IMAGE_EXAMPLE.shape)\n",
    "axis[3].set_title(\"RESULT\")\n",
    "axis[3].imshow(RESULT_IMAGE_EXAMPLE[:,:,0],cmap=\"jet\")\n",
    "plt.tight_layout()\n",
    "plt.show()"
   ]
  },
  {
   "cell_type": "code",
   "execution_count": null,
   "metadata": {},
   "outputs": [],
   "source": [
    "sample_image_RGB = cv2.cvtColor(cv2.imread(main_df[\"OBJECTS\"][96]),cv2.COLOR_BGR2RGB)"
   ]
  },
  {
   "cell_type": "code",
   "execution_count": null,
   "metadata": {},
   "outputs": [],
   "source": [
    "sample_image_HSV = cv2.cvtColor(cv2.imread(main_df[\"OBJECTS\"][96]),cv2.COLOR_BGR2HSV)"
   ]
  },
  {
   "cell_type": "code",
   "execution_count": null,
   "metadata": {},
   "outputs": [],
   "source": [
    "BLUE_MASK = cv2.inRange(sample_image_HSV, LOWER_BLUE, UPPER_BLUE)"
   ]
  },
  {
   "cell_type": "code",
   "execution_count": null,
   "metadata": {},
   "outputs": [],
   "source": [
    "RESULT_IMAGE_EXAMPLE = cv2.bitwise_and(sample_image_RGB, sample_image_RGB, mask=BLUE_MASK)"
   ]
  },
  {
   "cell_type": "code",
   "execution_count": null,
   "metadata": {},
   "outputs": [],
   "source": [
    "figure,axis = plt.subplots(1,4,figsize=(15,15))\n",
    "axis[0].set_xlabel(sample_image_RGB.shape)\n",
    "axis[0].set_title(\"OBJECT RGB\")\n",
    "axis[0].imshow(sample_image_RGB)\n",
    "axis[1].set_xlabel(sample_image_HSV.shape)\n",
    "axis[1].set_title(\"OBJECT HSV\")\n",
    "axis[1].imshow(sample_image_HSV)\n",
    "axis[2].set_xlabel(BLUE_MASK.shape)\n",
    "axis[2].set_title(\"BLUE MASK\")\n",
    "axis[2].imshow(BLUE_MASK)\n",
    "axis[3].set_xlabel(RESULT_IMAGE_EXAMPLE.shape)\n",
    "axis[3].set_title(\"RESULT\")\n",
    "axis[3].imshow(RESULT_IMAGE_EXAMPLE[:,:,0],cmap=\"jet\")\n",
    "plt.tight_layout()\n",
    "plt.show()"
   ]
  },
  {
   "cell_type": "code",
   "execution_count": null,
   "metadata": {},
   "outputs": [],
   "source": [
    "def create_encoder_model():\n",
    "    encoder_model = Sequential()\n",
    "    encoder_model.add(Conv2D(32,(2,2),kernel_initializer = 'he_normal',padding = \"same\",use_bias = True))\n",
    "    encoder_model.add(BatchNormalization())\n",
    "    encoder_model.add(ReLU())\n",
    "    encoder_model.add(Conv2D(64,(2,2),kernel_initializer = 'he_normal',padding = \"same\",use_bias = True))\n",
    "    encoder_model.add(BatchNormalization())\n",
    "    encoder_model.add(ReLU())\n",
    "    encoder_model.add(Conv2D(128,(2,2),kernel_initializer = 'he_normal',padding = \"same\",use_bias = True))\n",
    "    encoder_model.add(BatchNormalization())\n",
    "    encoder_model.add(ReLU())\n",
    "    return encoder_model"
   ]
  },
  {
   "cell_type": "code",
   "execution_count": null,
   "metadata": {},
   "outputs": [],
   "source": [
    "def create_decoder_model():\n",
    "    decoder_model = Sequential()\n",
    "    decoder_model.add(Conv2DTranspose(32,(2,2),padding = \"same\",use_bias = True))\n",
    "    decoder_model.add(BatchNormalization())\n",
    "    decoder_model.add(ReLU())\n",
    "    decoder_model.add( Conv2DTranspose(32,(2,2),padding = \"same\",use_bias = True))\n",
    "    decoder_model.add(BatchNormalization())\n",
    "    decoder_model.add(ReLU())\n",
    "    decoder_model.add( Conv2DTranspose(output_class,(2,2),padding = \"same\",use_bias = True))\n",
    "    decoder_model.add(BatchNormalization())\n",
    "    decoder_model.add(ReLU())\n",
    "    return decoder_model"
   ]
  },
  {
   "cell_type": "code",
   "execution_count": null,
   "metadata": {},
   "outputs": [],
   "source": [
    "image_path = sorted(jpg_path_list)"
   ]
  },
  {
   "cell_type": "code",
   "execution_count": null,
   "metadata": {},
   "outputs": [],
   "source": [
    "mask_path = sorted(bmp_path_list)"
   ]
  },
  {
   "cell_type": "code",
   "execution_count": null,
   "metadata": {},
   "outputs": [],
   "source": [
    "image_series = pd.Series(image_path,name=\"OBJECTS\").astype(str)"
   ]
  },
  {
   "cell_type": "code",
   "execution_count": null,
   "metadata": {},
   "outputs": [],
   "source": [
    "image_series"
   ]
  },
  {
   "cell_type": "code",
   "execution_count": null,
   "metadata": {},
   "outputs": [],
   "source": [
    "mask_series = pd.Series(mask_path,name=\"MASK\").astype(str)"
   ]
  },
  {
   "cell_type": "code",
   "execution_count": null,
   "metadata": {},
   "outputs": [],
   "source": [
    "mask_series"
   ]
  },
  {
   "cell_type": "code",
   "execution_count": null,
   "metadata": {},
   "outputs": [],
   "source": [
    "combined_data = pd.concat([image_series,mask_series],axis=1)"
   ]
  },
  {
   "cell_type": "code",
   "execution_count": null,
   "metadata": {},
   "outputs": [],
   "source": [
    "combined_data"
   ]
  },
  {
   "cell_type": "code",
   "execution_count": null,
   "metadata": {},
   "outputs": [],
   "source": [
    "object_main_transformation= []"
   ]
  },
  {
   "cell_type": "code",
   "execution_count": null,
   "metadata": {},
   "outputs": [],
   "source": [
    "mask_main_transformation = []"
   ]
  },
  {
   "cell_type": "code",
   "execution_count": null,
   "metadata": {},
   "outputs": [],
   "source": [
    "main_transformation = []"
   ]
  },
  {
   "cell_type": "code",
   "execution_count": null,
   "metadata": {},
   "outputs": [],
   "source": [
    "for x_image,x_mask in zip(combined_data.OBJECTS,combined_data.MASK):\n",
    "    \n",
    "    t_image_x = cv2.cvtColor(cv2.imread(x_image),cv2.COLOR_BGR2RGB)\n",
    "    t_mask_x = cv2.cvtColor(cv2.imread(x_mask),cv2.COLOR_BGR2RGB)\n",
    "    \n",
    "    resized_x_image = cv2.resize(t_image_x,(300,300))\n",
    "    resized_x_mask = cv2.resize(t_mask_x,(300,300))\n",
    "    \n",
    "    combined_x = cv2.addWeighted(resized_x_image,0.6,resized_x_mask,0.6,0.5)\n",
    "    \n",
    "    resized_x_combined = cv2.resize(combined_x,(300,300))\n",
    "    \n",
    "    mask_main_transformation.append(resized_x_image)\n",
    "    object_main_transformation.append(resized_x_image)\n",
    "    main_transformation.append(resized_x_combined)"
   ]
  },
  {
   "cell_type": "code",
   "execution_count": null,
   "metadata": {},
   "outputs": [],
   "source": [
    "print(\"IMAGE SHAPE: \",np.shape(np.array(object_main_transformation)))"
   ]
  },
  {
   "cell_type": "code",
   "execution_count": null,
   "metadata": {},
   "outputs": [],
   "source": [
    "print(\"MASK SHAPE: \",np.shape(np.array(mask_main_transformation)))"
   ]
  },
  {
   "cell_type": "code",
   "execution_count": null,
   "metadata": {},
   "outputs": [],
   "source": [
    "print(\"ADD SHAPE: \",np.shape(np.array(main_transformation)))"
   ]
  },
  {
   "cell_type": "code",
   "execution_count": null,
   "metadata": {},
   "outputs": [],
   "source": [
    "transformation_image = np.array(object_main_transformation,dtype=\"float32\")"
   ]
  },
  {
   "cell_type": "code",
   "execution_count": null,
   "metadata": {},
   "outputs": [],
   "source": [
    "transformation_mask = np.array(mask_main_transformation,dtype=\"float32\")"
   ]
  },
  {
   "cell_type": "code",
   "execution_count": null,
   "metadata": {},
   "outputs": [],
   "source": [
    "transformation_combined = np.array(main_transformation,dtype=\"float32\")"
   ]
  },
  {
   "cell_type": "code",
   "execution_count": null,
   "metadata": {},
   "outputs": [],
   "source": [
    "transformation_image = transformation_image / 255."
   ]
  },
  {
   "cell_type": "code",
   "execution_count": null,
   "metadata": {},
   "outputs": [],
   "source": [
    "transformation_mask = transformation_mask / 255."
   ]
  },
  {
   "cell_type": "code",
   "execution_count": null,
   "metadata": {},
   "outputs": [],
   "source": [
    "transformation_combined = transformation_combined / 255."
   ]
  },
  {
   "cell_type": "code",
   "execution_count": null,
   "metadata": {},
   "outputs": [],
   "source": [
    "print(\"TRAIN: \",transformation_image.shape)\n",
    "print(\"TRANSFORMATION MASK: \",transformation_mask.shape)\n",
    "print(\"TRANSFORMATION ADD: \",transformation_combined.shape)"
   ]
  },
  {
   "cell_type": "code",
   "execution_count": null,
   "metadata": {},
   "outputs": [],
   "source": [
    "compile_loss = \"binary_crossentropy\""
   ]
  },
  {
   "cell_type": "code",
   "execution_count": null,
   "metadata": {},
   "outputs": [],
   "source": [
    "output_class=3"
   ]
  },
  {
   "cell_type": "code",
   "execution_count": null,
   "metadata": {},
   "outputs": [],
   "source": [
    "no_of_epochs = 30"
   ]
  },
  {
   "cell_type": "code",
   "execution_count": null,
   "metadata": {},
   "outputs": [],
   "source": [
    "model_optimizer = Adam(learning_rate=0.000001)"
   ]
  },
  {
   "cell_type": "code",
   "execution_count": null,
   "metadata": {},
   "outputs": [],
   "source": [
    "checkpoint = ModelCheckpoint(monitor=\"val_accuracy\", save_best_only=True, save_weights_only=True, filepath=\"./modelcheckpoint\")"
   ]
  },
  {
   "cell_type": "code",
   "execution_count": null,
   "metadata": {},
   "outputs": [],
   "source": [
    "en_de_coder_model = Sequential([create_encoder_model(), create_decoder_model()])"
   ]
  },
  {
   "cell_type": "code",
   "execution_count": null,
   "metadata": {},
   "outputs": [],
   "source": [
    "en_de_coder_model.compile(loss=compile_loss, optimizer=model_optimizer, metrics=[\"mse\"])"
   ]
  },
  {
   "cell_type": "code",
   "execution_count": null,
   "metadata": {},
   "outputs": [],
   "source": [
    "can_train = False"
   ]
  },
  {
   "cell_type": "code",
   "execution_count": null,
   "metadata": {},
   "outputs": [],
   "source": [
    "if can_train == True:\n",
    "    en_de_coder_model_history = en_de_coder_model.fit(transformation_image, transformation_mask, epochs=no_of_epochs, callbacks=[])\n",
    "    en_de_coder_model.save('Encoder-Decoder-1.keras')\n",
    "else:\n",
    "    en_de_coder_model = load_model('Encoder-Decoder-1.keras')"
   ]
  },
  {
   "cell_type": "code",
   "execution_count": null,
   "metadata": {},
   "outputs": [],
   "source": [
    "predictions = en_de_coder_model.predict(transformation_image[:10])"
   ]
  },
  {
   "cell_type": "code",
   "execution_count": null,
   "metadata": {},
   "outputs": [],
   "source": [
    "figure,axis = plt.subplots(1,2,figsize=(15,15))\n",
    "\n",
    "PRE_COUNT = np.random.randint(0,5)\n",
    "\n",
    "axis[0].imshow(transformation_image[PRE_COUNT])\n",
    "axis[0].set_title(\"ORIGINAL\")\n",
    "axis[1].imshow(predictions[PRE_COUNT])\n",
    "axis[1].set_title(\"PREDICTION\")\n",
    "\n",
    "plt.tight_layout()\n",
    "plt.show()"
   ]
  },
  {
   "cell_type": "code",
   "execution_count": null,
   "metadata": {},
   "outputs": [],
   "source": [
    "figure,axis = plt.subplots(1,2,figsize=(15,15))\n",
    "\n",
    "PRE_COUNT = np.random.randint(5,10)\n",
    "\n",
    "axis[0].imshow(transformation_image[PRE_COUNT])\n",
    "axis[0].set_title(\"ORIGINAL\")\n",
    "axis[1].imshow(predictions[PRE_COUNT])\n",
    "axis[1].set_title(\"PREDICTION\")\n",
    "\n",
    "plt.tight_layout()\n",
    "plt.show()"
   ]
  },
  {
   "cell_type": "code",
   "execution_count": null,
   "metadata": {},
   "outputs": [],
   "source": [
    "figure,axis = plt.subplots(1,2,figsize=(15,15))\n",
    "\n",
    "PRE_COUNT = 5\n",
    "\n",
    "axis[0].imshow(transformation_image[PRE_COUNT])\n",
    "axis[0].set_title(\"ORIGINAL\")\n",
    "axis[1].imshow(predictions[PRE_COUNT])\n",
    "axis[1].set_title(\"PREDICTION\")\n",
    "\n",
    "plt.tight_layout()\n",
    "plt.show()"
   ]
  },
  {
   "cell_type": "code",
   "execution_count": null,
   "metadata": {},
   "outputs": [],
   "source": [
    "figure,axis = plt.subplots(1,2,figsize=(15,15))\n",
    "\n",
    "PRE_COUNT = 9\n",
    "\n",
    "axis[0].imshow(transformation_image[PRE_COUNT])\n",
    "axis[0].set_title(\"ORIGINAL\")\n",
    "axis[1].imshow(predictions[PRE_COUNT])\n",
    "axis[1].set_title(\"PREDICTION\")\n",
    "\n",
    "plt.tight_layout()\n",
    "plt.show()"
   ]
  },
  {
   "cell_type": "code",
   "execution_count": null,
   "metadata": {},
   "outputs": [],
   "source": [
    "NON_SEEN_PATH = \"Dataset/TEST/images/d_r_129_.jpg\"\n",
    "\n",
    "IMAGE_NON_SEEN = cv2.cvtColor(cv2.imread(NON_SEEN_PATH),cv2.COLOR_BGR2RGB)\n",
    "\n",
    "RESIZED_NON_SEEN = cv2.resize(IMAGE_NON_SEEN,(300,300))\n",
    "\n",
    "RESIZED_NON_SEEN = RESIZED_NON_SEEN.reshape(1,RESIZED_NON_SEEN.shape[0],RESIZED_NON_SEEN.shape[1],RESIZED_NON_SEEN.shape[2])\n",
    "\n",
    "Prediction_Non_Seen = en_de_coder_model.predict(RESIZED_NON_SEEN)\n",
    "\n",
    "figure,axis = plt.subplots(1,2,figsize=(15,15))\n",
    "\n",
    "PRE_COUNT = 9\n",
    "\n",
    "axis[0].imshow(RESIZED_NON_SEEN[0])\n",
    "axis[0].set_title(\"ORIGINAL\")\n",
    "axis[1].imshow(Prediction_Non_Seen[0])\n",
    "axis[1].set_title(\"PREDICTION\")\n",
    "\n",
    "plt.tight_layout()\n",
    "plt.show()"
   ]
  },
  {
   "cell_type": "code",
   "execution_count": null,
   "metadata": {},
   "outputs": [],
   "source": [
    "NON_SEEN_PATH = \"Dataset/TEST/images/d_r_384_.jpg\"\n",
    "\n",
    "IMAGE_NON_SEEN = cv2.cvtColor(cv2.imread(NON_SEEN_PATH),cv2.COLOR_BGR2RGB)\n",
    "\n",
    "RESIZED_NON_SEEN = cv2.resize(IMAGE_NON_SEEN,(300,300))\n",
    "\n",
    "RESIZED_NON_SEEN = RESIZED_NON_SEEN.reshape(1,RESIZED_NON_SEEN.shape[0],RESIZED_NON_SEEN.shape[1],RESIZED_NON_SEEN.shape[2])\n",
    "\n",
    "Prediction_Non_Seen = en_de_coder_model.predict(RESIZED_NON_SEEN)\n",
    "\n",
    "figure,axis = plt.subplots(1,2,figsize=(15,15))\n",
    "\n",
    "PRE_COUNT = 9\n",
    "\n",
    "axis[0].imshow(RESIZED_NON_SEEN[0])\n",
    "axis[0].set_title(\"ORIGINAL\")\n",
    "axis[1].imshow(Prediction_Non_Seen[0])\n",
    "axis[1].set_title(\"PREDICTION\")\n",
    "\n",
    "plt.tight_layout()\n",
    "plt.show()"
   ]
  },
  {
   "cell_type": "code",
   "execution_count": null,
   "metadata": {},
   "outputs": [],
   "source": [
    "NON_SEEN_PATH = \"Dataset/TEST/images/f_r_1220_.jpg\"\n",
    "\n",
    "IMAGE_NON_SEEN = cv2.cvtColor(cv2.imread(NON_SEEN_PATH),cv2.COLOR_BGR2RGB)\n",
    "\n",
    "RESIZED_NON_SEEN = cv2.resize(IMAGE_NON_SEEN,(300,300))\n",
    "\n",
    "RESIZED_NON_SEEN = RESIZED_NON_SEEN.reshape(1,RESIZED_NON_SEEN.shape[0],RESIZED_NON_SEEN.shape[1],RESIZED_NON_SEEN.shape[2])\n",
    "\n",
    "Prediction_Non_Seen = en_de_coder_model.predict(RESIZED_NON_SEEN)\n",
    "\n",
    "figure,axis = plt.subplots(1,2,figsize=(15,15))\n",
    "\n",
    "PRE_COUNT = 9\n",
    "\n",
    "axis[0].imshow(RESIZED_NON_SEEN[0])\n",
    "axis[0].set_title(\"ORIGINAL\")\n",
    "axis[1].imshow(Prediction_Non_Seen[0])\n",
    "axis[1].set_title(\"PREDICTION\")\n",
    "\n",
    "plt.tight_layout()\n",
    "plt.show()"
   ]
  },
  {
   "cell_type": "code",
   "execution_count": null,
   "metadata": {},
   "outputs": [],
   "source": []
  },
  {
   "cell_type": "code",
   "execution_count": null,
   "metadata": {},
   "outputs": [],
   "source": []
  },
  {
   "cell_type": "code",
   "execution_count": null,
   "metadata": {},
   "outputs": [],
   "source": []
  },
  {
   "cell_type": "code",
   "execution_count": null,
   "metadata": {},
   "outputs": [],
   "source": [
    "dict = {'classes': ['Background', 'Human divers', 'Aquatic plants and sea-grass', 'Wrecks and ruins', 'Robots', 'Reefs and invertebrates', 'Fish and vertebrates', 'Sea-floor and rocks'], \n",
    "        'colors': [(0,0,0), (0,0,255), (0,255,0), (0,255,255), (255,0,0), (255,0,255), (255,255,0), (255,255,255)]}"
   ]
  },
  {
   "cell_type": "code",
   "execution_count": null,
   "metadata": {},
   "outputs": [],
   "source": [
    "img_dim = (256,256,3)"
   ]
  },
  {
   "cell_type": "code",
   "execution_count": null,
   "metadata": {},
   "outputs": [],
   "source": [
    "perc_train = 0.8"
   ]
  },
  {
   "cell_type": "code",
   "execution_count": null,
   "metadata": {},
   "outputs": [],
   "source": [
    "batch_size=32"
   ]
  },
  {
   "cell_type": "code",
   "execution_count": null,
   "metadata": {},
   "outputs": [],
   "source": [
    "n_classes=8"
   ]
  },
  {
   "cell_type": "code",
   "execution_count": null,
   "metadata": {},
   "outputs": [],
   "source": [
    "paths = []"
   ]
  },
  {
   "cell_type": "code",
   "execution_count": null,
   "metadata": {},
   "outputs": [],
   "source": [
    "for dirname, _, filenames in os.walk(\"Dataset/train_val\"):\n",
    "    for filename in filenames:\n",
    "        paths.append(os.path.join(dirname, filename))"
   ]
  },
  {
   "cell_type": "code",
   "execution_count": null,
   "metadata": {},
   "outputs": [],
   "source": [
    "in_files = [x for x in paths if x.endswith('jpg')]"
   ]
  },
  {
   "cell_type": "code",
   "execution_count": null,
   "metadata": {},
   "outputs": [],
   "source": [
    "lab_files = [x for x in paths if x.endswith('bmp')]"
   ]
  },
  {
   "cell_type": "code",
   "execution_count": null,
   "metadata": {},
   "outputs": [],
   "source": [
    "in_files.sort()\n",
    "lab_files.sort()"
   ]
  },
  {
   "cell_type": "code",
   "execution_count": null,
   "metadata": {},
   "outputs": [],
   "source": [
    "def labelize(label):\n",
    "    m,n,b = label.shape\n",
    "    ref = np.zeros((m,n))\n",
    "    for i,col in enumerate(dict['colors']):\n",
    "        ref[np.all(label == col,axis=-1)] = i\n",
    "    return ref"
   ]
  },
  {
   "cell_type": "code",
   "execution_count": null,
   "metadata": {},
   "outputs": [],
   "source": [
    "def jaccard_coef(y_true, y_pred):\n",
    "    y_true_f = K.flatten(y_true)\n",
    "    y_pred_f = K.flatten(y_pred)\n",
    "    intersection = K.sum(y_true_f * y_pred_f)\n",
    "    return (intersection + 1.0) / (K.sum(y_true_f) + K.sum(y_pred_f) - intersection + 1.0)"
   ]
  },
  {
   "cell_type": "code",
   "execution_count": null,
   "metadata": {},
   "outputs": [],
   "source": [
    "class DataGenerator(Sequence):\n",
    "    def __init__(self, list_IDs, list_labels, batch_size=32, img_dim = (256,256), n_channels = 3, n_classes=10, shuffle=True):\n",
    "        self.dim = img_dim\n",
    "        self.batch_size = batch_size\n",
    "        self.labels = list_labels\n",
    "        self.list_IDs = list_IDs\n",
    "        self.n_channels = n_channels\n",
    "        self.n_classes = n_classes\n",
    "        self.shuffle = shuffle\n",
    "        self.on_epoch_end()\n",
    "\n",
    "    def __len__(self):\n",
    "        return int(np.floor(len(self.list_IDs) / self.batch_size))\n",
    "\n",
    "    def __getitem__(self, index):\n",
    "        indexes = self.indexes[index*self.batch_size:(index+1)*self.batch_size]\n",
    "        list_IDs_temp = [self.list_IDs[k] for k in indexes]\n",
    "        list_lab_temp = [self.labels[k] for k in indexes]\n",
    "\n",
    "        # Generate data\n",
    "        X, y = self.__data_generation(list_IDs_temp, list_lab_temp)\n",
    "\n",
    "        return X, y\n",
    "\n",
    "    def on_epoch_end(self):\n",
    "        self.indexes = np.arange(len(self.list_IDs))\n",
    "        if self.shuffle == True:\n",
    "            np.random.shuffle(self.indexes)\n",
    "\n",
    "    def __data_generation(self, list_IDs_temp, list_labels):\n",
    "        X = np.empty((self.batch_size, *self.dim, self.n_channels))\n",
    "        y = np.empty((self.batch_size, *self.dim), dtype=int)\n",
    "\n",
    "        for i, ID in enumerate(list_IDs_temp):\n",
    "            X[i,] = img_to_array(load_img(ID,target_size = ( *self.dim, self.n_channels), interpolation = 'bicubic'))/255\n",
    "            yy = img_to_array(load_img(list_labels[i], target_size = ( *self.dim, self.n_channels), interpolation= 'nearest'))\n",
    "            y[i,] = labelize(yy)\n",
    "        return X, to_categorical(y, num_classes=self.n_classes)\n"
   ]
  },
  {
   "cell_type": "code",
   "execution_count": null,
   "metadata": {},
   "outputs": [],
   "source": [
    "# Encoder Decoder 2"
   ]
  },
  {
   "cell_type": "code",
   "execution_count": null,
   "metadata": {},
   "outputs": [],
   "source": [
    "inputs = Input(img_dim)"
   ]
  },
  {
   "cell_type": "code",
   "execution_count": null,
   "metadata": {},
   "outputs": [],
   "source": [
    "def create_encoder_decoder_model_2(inputs):\n",
    "    c1 = Conv2D(16, (3, 3), activation='relu', kernel_initializer='he_normal', padding='same')(inputs)\n",
    "    c1 = Conv2D(16, (3, 3), activation='relu', kernel_initializer='he_normal', padding='same')(c1)\n",
    "    p1 = MaxPooling2D((2, 2))(c1)\n",
    "    \n",
    "    c2 = Conv2D(32, (3, 3), activation='relu', kernel_initializer='he_normal', padding='same')(p1)\n",
    "    c2 = Conv2D(32, (3, 3), activation='relu', kernel_initializer='he_normal', padding='same')(c2)\n",
    "    p2 = MaxPooling2D((2, 2))(c2)\n",
    "     \n",
    "    c3 = Conv2D(64, (3, 3), activation='relu', kernel_initializer='he_normal', padding='same')(p2)\n",
    "    c3 = Conv2D(64, (3, 3), activation='relu', kernel_initializer='he_normal', padding='same')(c3)\n",
    "    p3 = MaxPooling2D((2, 2))(c3)\n",
    "     \n",
    "    c4 = Conv2D(128, (3, 3), activation='relu', kernel_initializer='he_normal', padding='same')(p3)\n",
    "    c4 = Conv2D(128, (3, 3), activation='relu', kernel_initializer='he_normal', padding='same')(c4)\n",
    "    p4 = MaxPooling2D(pool_size=(2, 2))(c4)\n",
    "     \n",
    "    c5 = Conv2D(256, (3, 3), activation='relu', kernel_initializer='he_normal', padding='same')(p4)\n",
    "    c5 = Dropout(0.3)(c5)\n",
    "    c5 = Conv2D(256, (3, 3), activation='relu', kernel_initializer='he_normal', padding='same')(c5)\n",
    "    \n",
    "    u6 = Conv2DTranspose(128, (2, 2), strides=(2, 2), padding='same')(c5)\n",
    "    u6 = concatenate([u6, c4])\n",
    "    c6 = Conv2D(128, (3, 3), activation='relu', kernel_initializer='he_normal', padding='same')(u6)\n",
    "    c6 = Conv2D(128, (3, 3), activation='relu', kernel_initializer='he_normal', padding='same')(c6)\n",
    "     \n",
    "    u7 = Conv2DTranspose(64, (2, 2), strides=(2, 2), padding='same')(c6)\n",
    "    u7 = concatenate([u7, c3])\n",
    "    c7 = Conv2D(64, (3, 3), activation='relu', kernel_initializer='he_normal', padding='same')(u7)\n",
    "    c7 = Conv2D(64, (3, 3), activation='relu', kernel_initializer='he_normal', padding='same')(c7)\n",
    "     \n",
    "    u8 = Conv2DTranspose(32, (2, 2), strides=(2, 2), padding='same')(c7)\n",
    "    u8 = concatenate([u8, c2])\n",
    "    c8 = Conv2D(32, (3, 3), activation='relu', kernel_initializer='he_normal', padding='same')(u8)\n",
    "    c8 = Conv2D(32, (3, 3), activation='relu', kernel_initializer='he_normal', padding='same')(c8)\n",
    "     \n",
    "    u9 = Conv2DTranspose(16, (2, 2), strides=(2, 2), padding='same')(c8)\n",
    "    u9 = concatenate([u9, c1], axis=3)\n",
    "    c9 = Conv2D(16, (3, 3), activation='relu', kernel_initializer='he_normal', padding='same')(u9)\n",
    "    c9 = Conv2D(16, (3, 3), activation='relu', kernel_initializer='he_normal', padding='same')(c9)\n",
    "    return c9"
   ]
  },
  {
   "cell_type": "code",
   "execution_count": null,
   "metadata": {},
   "outputs": [],
   "source": [
    "def create_unet_model(inputs):\n",
    "    outputs = Conv2D(n_classes, (1, 1), activation='softmax')(create_encoder_decoder_model_2(inputs))\n",
    "     \n",
    "    unet_model = Model(inputs=[inputs], outputs=[outputs])\n",
    "    return unet_model"
   ]
  },
  {
   "cell_type": "code",
   "execution_count": null,
   "metadata": {},
   "outputs": [],
   "source": [
    "metrics=['accuracy', jaccard_coef]"
   ]
  },
  {
   "cell_type": "code",
   "execution_count": null,
   "metadata": {},
   "outputs": [],
   "source": [
    "loss = sm.losses.DiceLoss() "
   ]
  },
  {
   "cell_type": "code",
   "execution_count": null,
   "metadata": {},
   "outputs": [],
   "source": [
    "unet_model= create_unet_model(inputs)"
   ]
  },
  {
   "cell_type": "code",
   "execution_count": null,
   "metadata": {},
   "outputs": [],
   "source": [
    "unet_model.summary()"
   ]
  },
  {
   "cell_type": "code",
   "execution_count": null,
   "metadata": {},
   "outputs": [],
   "source": [
    "unet_model.compile(optimizer='adam', loss=loss, metrics=metrics)"
   ]
  },
  {
   "cell_type": "code",
   "execution_count": null,
   "metadata": {},
   "outputs": [],
   "source": [
    "EarlyStop=EarlyStopping(patience=10,restore_best_weights=True)"
   ]
  },
  {
   "cell_type": "code",
   "execution_count": null,
   "metadata": {},
   "outputs": [],
   "source": [
    "Reduce_LR=ReduceLROnPlateau(monitor='val_accuracy',verbose=2,factor=0.5,min_lr=0.00001)"
   ]
  },
  {
   "cell_type": "code",
   "execution_count": null,
   "metadata": {},
   "outputs": [],
   "source": [
    "model_check=ModelCheckpoint('model.hdf5',monitor='val_loss',verbose=1,save_best_only=True)"
   ]
  },
  {
   "cell_type": "code",
   "execution_count": null,
   "metadata": {},
   "outputs": [],
   "source": [
    "callback=[EarlyStop , Reduce_LR,model_check]"
   ]
  },
  {
   "cell_type": "code",
   "execution_count": null,
   "metadata": {},
   "outputs": [],
   "source": [
    "L = len(in_files)"
   ]
  },
  {
   "cell_type": "code",
   "execution_count": null,
   "metadata": {},
   "outputs": [],
   "source": [
    "indices = np.arange(L)"
   ]
  },
  {
   "cell_type": "code",
   "execution_count": null,
   "metadata": {},
   "outputs": [],
   "source": [
    "L1 = int(L*perc_train)"
   ]
  },
  {
   "cell_type": "code",
   "execution_count": null,
   "metadata": {},
   "outputs": [],
   "source": [
    "t_gen = DataGenerator(in_files[:L1], lab_files[:L1], batch_size=batch_size, img_dim = (256,256), n_channels = 3, n_classes=8, shuffle=True)"
   ]
  },
  {
   "cell_type": "code",
   "execution_count": null,
   "metadata": {},
   "outputs": [],
   "source": [
    "v_gen = DataGenerator(in_files[L1:], lab_files[L1:], batch_size=batch_size, img_dim = (256,256), n_channels = 3, n_classes=8, shuffle=True)"
   ]
  },
  {
   "cell_type": "code",
   "execution_count": null,
   "metadata": {},
   "outputs": [],
   "source": []
  },
  {
   "cell_type": "code",
   "execution_count": null,
   "metadata": {},
   "outputs": [],
   "source": [
    "if can_train:\n",
    "    unet_history = unet_model.fit(t_gen, \n",
    "                        verbose=1, \n",
    "                        epochs=no_of_epochs, \n",
    "                        validation_data=v_gen)\n",
    "    unet_model.save('UNet-Model.keras')\n",
    "else:\n",
    "    unet_model = load_model('UNet-Model.keras', compile=False)\n",
    "    "
   ]
  },
  {
   "cell_type": "code",
   "execution_count": null,
   "metadata": {},
   "outputs": [],
   "source": [
    "if can_train:\n",
    "    loss = unet_history.history['loss']\n",
    "    val_loss = unet_history.history['val_loss']\n",
    "    epochs = range(1, len(loss) + 1)\n",
    "    plt.plot(epochs, loss, 'y', label='Training loss')\n",
    "    plt.plot(epochs, val_loss, 'r', label='Validation loss')\n",
    "    plt.title('Training and validation loss')\n",
    "    plt.xlabel('Epochs')\n",
    "    plt.ylabel('Loss')\n",
    "    plt.legend()\n",
    "    plt.savefig('./Output/Training-and-Validation-Loss.png')\n",
    "    plt.show()\n",
    "    \n",
    "else:\n",
    "    display(WImage(filename='./Output/Training-and-Validation-Loss.png') )"
   ]
  },
  {
   "cell_type": "code",
   "execution_count": null,
   "metadata": {},
   "outputs": [],
   "source": [
    "if can_train:\n",
    "    acc = unet_history.history['jaccard_coef']\n",
    "    val_acc = unet_history.history['val_jaccard_coef']\n",
    "\n",
    "    plt.plot(epochs, acc, 'y', label='Training IoU')\n",
    "    plt.plot(epochs, val_acc, 'r', label='Validation IoU')\n",
    "    plt.title('Training and validation IoU')\n",
    "    plt.xlabel('Epochs')\n",
    "    plt.ylabel('IoU')\n",
    "    plt.legend()\n",
    "    plt.savefig('./Output/Training-and-Validation-IoU.png')\n",
    "    plt.show()\n",
    "    \n",
    "else:\n",
    "    WImage(filename='./Output/Training-and-Validation-IoU.png') "
   ]
  },
  {
   "cell_type": "code",
   "execution_count": null,
   "metadata": {},
   "outputs": [],
   "source": [
    "base = r\"Dataset/TEST\"\n",
    "t_in_files = []\n",
    "t_lab_files = []\n",
    "imgs = os.listdir(os.path.join(base,'images'))\n",
    "for img in imgs:\n",
    "    t_in_files.append(os.path.join(base,'images', img))\n",
    "    t_lab_files.append(os.path.join(base,'masks', img[:-3] + 'bmp'))\n",
    "t_in_files.sort()\n",
    "t_lab_files.sort()"
   ]
  },
  {
   "cell_type": "code",
   "execution_count": null,
   "metadata": {},
   "outputs": [],
   "source": [
    "a = img_to_array(load_img(t_lab_files[0], target_size = img_dim, interpolation= 'nearest'))\n",
    "print(a.shape)\n",
    "plt.figure()\n",
    "plt.imshow(a)\n",
    "b = labelize(a)\n",
    "print(np.unique(b))\n",
    "print(b.shape)\n",
    "plt.figure()\n",
    "plt.imshow(b,vmin=0, vmax= n_classes)"
   ]
  },
  {
   "cell_type": "code",
   "execution_count": null,
   "metadata": {},
   "outputs": [],
   "source": [
    "test_set = []\n",
    "test_lab = []"
   ]
  },
  {
   "cell_type": "code",
   "execution_count": null,
   "metadata": {},
   "outputs": [],
   "source": [
    "for i in range(len(t_in_files)):\n",
    "    test_set.append(img_to_array(load_img(t_in_files[i],target_size = img_dim, interpolation = 'bicubic'))/255)\n",
    "    yy = img_to_array(load_img(t_lab_files[i], target_size = img_dim, interpolation= 'nearest'))\n",
    "    test_lab.append(to_categorical(labelize(yy),num_classes=8))"
   ]
  },
  {
   "cell_type": "code",
   "execution_count": null,
   "metadata": {},
   "outputs": [],
   "source": [
    "test_set = np.asarray(test_set)\n",
    "test_lab = np.asarray(test_lab)"
   ]
  },
  {
   "cell_type": "code",
   "execution_count": null,
   "metadata": {},
   "outputs": [],
   "source": [
    "y_pred=unet_model.predict(test_set)"
   ]
  },
  {
   "cell_type": "code",
   "execution_count": null,
   "metadata": {},
   "outputs": [],
   "source": [
    "Jacc = jaccard_coef(test_lab,y_pred)"
   ]
  },
  {
   "cell_type": "code",
   "execution_count": null,
   "metadata": {},
   "outputs": [],
   "source": [
    "print('IoU = {}'.format(Jacc))"
   ]
  },
  {
   "cell_type": "code",
   "execution_count": null,
   "metadata": {},
   "outputs": [],
   "source": [
    "y_pred_argmax=np.argmax(y_pred, axis=3)\n",
    "y_test_argmax=np.argmax(test_lab, axis=3)"
   ]
  },
  {
   "cell_type": "code",
   "execution_count": null,
   "metadata": {},
   "outputs": [],
   "source": [
    "num_samples = 10"
   ]
  },
  {
   "cell_type": "code",
   "execution_count": null,
   "metadata": {},
   "outputs": [],
   "source": [
    "test_img_numbers = random.sample(range(test_set.shape[0]), num_samples)"
   ]
  },
  {
   "cell_type": "code",
   "execution_count": null,
   "metadata": {},
   "outputs": [],
   "source": [
    "for test_img_number in test_img_numbers:\n",
    "    test_img = test_set[test_img_number]\n",
    "    ground_truth=y_test_argmax[test_img_number]\n",
    "    #test_img_norm=test_img[:,:,0][:,:,None]\n",
    "    test_img_input=np.expand_dims(test_img, 0)\n",
    "    prediction = (unet_model.predict(test_img_input))\n",
    "    predicted_img=np.argmax(prediction, axis=3)[0,:,:]\n",
    "    plt.figure(figsize=(12, 8))\n",
    "    plt.subplot(231)\n",
    "    plt.title('Testing Image')\n",
    "    plt.imshow(test_img)\n",
    "    plt.subplot(232)\n",
    "    plt.title('Testing Label')\n",
    "    plt.imshow(ground_truth, vmin=0, vmax = n_classes)\n",
    "    plt.subplot(233)\n",
    "    plt.title('Prediction on test image')\n",
    "    plt.imshow(predicted_img, vmin=0, vmax = n_classes)\n",
    "    plt.show()"
   ]
  },
  {
   "cell_type": "code",
   "execution_count": null,
   "metadata": {},
   "outputs": [],
   "source": []
  },
  {
   "cell_type": "code",
   "execution_count": null,
   "metadata": {},
   "outputs": [],
   "source": []
  },
  {
   "cell_type": "code",
   "execution_count": null,
   "metadata": {},
   "outputs": [],
   "source": []
  }
 ],
 "metadata": {
  "kernelspec": {
   "display_name": "Python 3 (ipykernel)",
   "language": "python",
   "name": "python3"
  },
  "language_info": {
   "codemirror_mode": {
    "name": "ipython",
    "version": 3
   },
   "file_extension": ".py",
   "mimetype": "text/x-python",
   "name": "python",
   "nbconvert_exporter": "python",
   "pygments_lexer": "ipython3",
   "version": "3.9.12"
  }
 },
 "nbformat": 4,
 "nbformat_minor": 4
}
